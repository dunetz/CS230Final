{
 "cells": [
  {
   "cell_type": "code",
   "execution_count": 1,
   "metadata": {
    "colab": {},
    "colab_type": "code",
    "id": "Yp5xcGQP0iow"
   },
   "outputs": [],
   "source": [
    "#from google.colab import drive"
   ]
  },
  {
   "cell_type": "code",
   "execution_count": 2,
   "metadata": {
    "colab": {
     "base_uri": "https://localhost:8080/",
     "height": 54
    },
    "colab_type": "code",
    "id": "j4ddX9Wp0m6h",
    "outputId": "04ab0ff6-7dbf-4fad-e41e-0655a078fa22"
   },
   "outputs": [],
   "source": [
    "#drive.mount('/content/drive')"
   ]
  },
  {
   "cell_type": "code",
   "execution_count": 3,
   "metadata": {
    "colab": {},
    "colab_type": "code",
    "id": "U4OI2JUT01pY"
   },
   "outputs": [],
   "source": [
    "#import os\n",
    "#os.chdir(\"/content/drive\")"
   ]
  },
  {
   "cell_type": "code",
   "execution_count": 4,
   "metadata": {
    "colab": {
     "base_uri": "https://localhost:8080/",
     "height": 34
    },
    "colab_type": "code",
    "id": "iEyds35W07YL",
    "outputId": "7f52a6ce-09b9-4b27-9f0e-734b1f140579"
   },
   "outputs": [],
   "source": [
    "#cd My Drive"
   ]
  },
  {
   "cell_type": "code",
   "execution_count": 5,
   "metadata": {
    "colab": {
     "base_uri": "https://localhost:8080/",
     "height": 34
    },
    "colab_type": "code",
    "id": "z3z6DN5o1C1U",
    "outputId": "0ec8c793-312f-46a0-c191-c88c0b589a9b"
   },
   "outputs": [],
   "source": [
    "#cd CS230-master"
   ]
  },
  {
   "cell_type": "code",
   "execution_count": 6,
   "metadata": {
    "colab": {},
    "colab_type": "code",
    "id": "y0PpAUvr0Omk"
   },
   "outputs": [],
   "source": [
    "import pandas as pd\n",
    "import numpy as np\n",
    "import matplotlib.pylab as plt\n",
    "import time\n",
    "%matplotlib inline\n",
    "# \n",
    "from sklearn.metrics import confusion_matrix, classification_report, cohen_kappa_score"
   ]
  },
  {
   "cell_type": "code",
   "execution_count": 7,
   "metadata": {
    "colab": {
     "base_uri": "https://localhost:8080/",
     "height": 34
    },
    "colab_type": "code",
    "id": "_-lC-kwq0Omo",
    "outputId": "3257b983-4c41-48f0-b0c4-fdca7da177ee"
   },
   "outputs": [
    {
     "name": "stderr",
     "output_type": "stream",
     "text": [
      "Using TensorFlow backend.\n"
     ]
    }
   ],
   "source": [
    "import os; \n",
    "#work-around to allow import from directory on same level\n",
    "os.sys.path.append(os.path.dirname(os.path.abspath('.')))\n",
    "from input.DataLoader import DataLoader\n",
    "from input.GenerateBatch import GenerateBatch\n",
    "from model.Model3 import train_generator"
   ]
  },
  {
   "cell_type": "code",
   "execution_count": 8,
   "metadata": {
    "colab": {},
    "colab_type": "code",
    "id": "CDkNW07Q0Omu"
   },
   "outputs": [],
   "source": [
    "from sklearn.preprocessing import MinMaxScaler\n",
    "from keras import regularizers\n",
    "from keras.models import Sequential, load_model\n",
    "from keras.layers import LSTM, Dense,Dropout,Activation, Lambda\n",
    "from keras.layers import Conv1D, Conv2D, MaxPooling1D, Flatten\n",
    "from keras.layers import  MaxPooling1D, MaxPooling2D,Reshape, BatchNormalization\n",
    "from keras.utils import to_categorical\n",
    "from keras.metrics import categorical_crossentropy\n",
    "from scipy.stats import linregress\n",
    "from sklearn.utils import shuffle\n",
    "from sklearn.metrics import accuracy_score\n",
    "from sklearn.metrics import confusion_matrix, classification_report, cohen_kappa_score\n",
    "from keras.backend import transpose, permute_dimensions,squeeze\n",
    "from keras.optimizers import Adam"
   ]
  },
  {
   "cell_type": "code",
   "execution_count": 9,
   "metadata": {
    "colab": {
     "base_uri": "https://localhost:8080/",
     "height": 51
    },
    "colab_type": "code",
    "id": "SnCCfwPL0Omv",
    "outputId": "8fba1a7f-a9ff-4e6f-e91e-c72c0162e86d"
   },
   "outputs": [
    {
     "name": "stdout",
     "output_type": "stream",
     "text": [
      "trainday [0, 1, 2, 3, 4, 5] valdays [6, 7] colx range(0, 40) coly 148\n",
      "{'batch_size': 500, 'sequence_length': 20, 'epochs': 100, 'learning_rate': 0.001, 'learning_rate_decay': 0, 'opt': <keras.optimizers.Adam object at 0x7f578634a0f0>, 'save_dir': 'saved_models', 'nflag': False}\n"
     ]
    }
   ],
   "source": [
    "# PARAMETERS AND COMMENTs\n",
    "#\n",
    "# LSTM with 10bar target and 0-5.6-7 training/val \n",
    "# standardize window = false\n",
    "# Dropout back to 50; epochs back to 60\n",
    "# Try l2 reg on dense layer with small batch size - 50\n",
    "configs={}\n",
    "configs['batch_size']=500\n",
    "\n",
    "configs['sequence_length']=20\n",
    "configs['epochs']=100\n",
    "configs['learning_rate']=.001\n",
    "configs['learning_rate_decay']=0\n",
    "configs['opt']=Adam(lr=configs['learning_rate'],\n",
    "                   decay=configs['learning_rate_decay'])\n",
    "configs['save_dir']='saved_models'\n",
    "configs['nflag']=False #standardize each window\n",
    "\n",
    "\n",
    "\n",
    "traindays=[0,1,2,3,4,5] #training and val days to look at in dataset\n",
    "valdays=[6,7]\n",
    "colx=range(40)# columns to look at in dataset - 0-40 are LOB\n",
    "#colx=np.concatenate([np.arange(20),86+np.arange(20)])\n",
    "coly=148 # target 144-148 are 1,2,3,5,10\n",
    "generate_files=True\n",
    "print('trainday',traindays,'valdays',valdays,'colx',colx,'coly',coly)\n",
    "print(configs)"
   ]
  },
  {
   "cell_type": "markdown",
   "metadata": {
    "colab_type": "text",
    "id": "mNamKqckz6f7"
   },
   "source": [
    "### Generate data from zip files or retrieve from pkl files in directory"
   ]
  },
  {
   "cell_type": "code",
   "execution_count": 10,
   "metadata": {
    "colab": {},
    "colab_type": "code",
    "id": "IGGsKI3ez6gA"
   },
   "outputs": [],
   "source": [
    "if generate_files==True:\n",
    "  path='data/'\n",
    "  d=DataLoader(path)\n",
    "  traindf=d.get_days(traindays)\n",
    "  trainoffset=d.get_stock_offset(traindays)\n",
    "  valdf=d.get_days(valdays)\n",
    "  valoffset=d.get_stock_offset(valdays)\n",
    "\n",
    "  traindf.to_pickle(\"traindf.pkl\")\n",
    "  valdf.to_pickle(\"valdf.pkl\")\n",
    "  np.save(\"trainoffset\",trainoffset)\n",
    "  np.save(\"valoffset\",valoffset)\n",
    "\n",
    "else:\n",
    "  traindf=pd.read_pickle('traindf.pkl')\n",
    "  valdf=pd.read_pickle('valdf.pkl')\n",
    "  trainoffset=np.load(\"trainoffset.npy\")\n",
    "  valoffset=np.load(\"valoffset.npy\")\n",
    "\n",
    "# Select X and Y training and dev data. Y is categorical\n",
    "trainx=traindf.iloc[:,colx].values\n",
    "trainy=to_categorical(traindf.iloc[:,coly].values-1)\n",
    "valx=valdf.iloc[:,colx].values\n",
    "valy=to_categorical(valdf.iloc[:,coly].values-1)\n",
    "\n"
   ]
  },
  {
   "cell_type": "markdown",
   "metadata": {
    "colab_type": "text",
    "id": "rR0QQ6eBz6gC"
   },
   "source": [
    "### Build and compile model"
   ]
  },
  {
   "cell_type": "code",
   "execution_count": 11,
   "metadata": {
    "colab": {
     "base_uri": "https://localhost:8080/",
     "height": 476
    },
    "colab_type": "code",
    "id": "uZY-jfT70Om6",
    "outputId": "4ecc4ab7-ea7a-4975-c5ec-3b731ace975b"
   },
   "outputs": [
    {
     "name": "stdout",
     "output_type": "stream",
     "text": [
      "_________________________________________________________________\n",
      "Layer (type)                 Output Shape              Param #   \n",
      "=================================================================\n",
      "lstm_1 (LSTM)                (None, 100)               56400     \n",
      "_________________________________________________________________\n",
      "dropout_1 (Dropout)          (None, 100)               0         \n",
      "_________________________________________________________________\n",
      "dense_1 (Dense)              (None, 3)                 303       \n",
      "=================================================================\n",
      "Total params: 56,703\n",
      "Trainable params: 56,703\n",
      "Non-trainable params: 0\n",
      "_________________________________________________________________\n"
     ]
    }
   ],
   "source": [
    "model = Sequential()\n",
    "model.add(LSTM(100,input_shape=(configs['sequence_length'],len(colx)),kernel_regularizer=regularizers.l2(0.01), return_sequences=False))\n",
    "model.add(Dropout(0.50))\n",
    "#self.model.add(Dense(100,kernel_regularizer=regularizers.l2(0.01),activation='relu'))\n",
    "#self.model.add(Dropout(0.20))\n",
    "model.add(Dense(3,activation=\"softmax\"))\n",
    "opt=Adam(lr=configs['learning_rate'],decay=configs['learning_rate_decay'])\n",
    "model.compile(loss=\"categorical_crossentropy\", optimizer=configs['opt'],metrics=['accuracy'])\n",
    "model.summary()"
   ]
  },
  {
   "cell_type": "markdown",
   "metadata": {
    "colab_type": "text",
    "id": "VtnITiYbz6gF"
   },
   "source": [
    "### Model Fitting"
   ]
  },
  {
   "cell_type": "code",
   "execution_count": 12,
   "metadata": {
    "colab": {},
    "colab_type": "code",
    "id": "pyyecGn40Om-"
   },
   "outputs": [],
   "source": [
    "training_generator=GenerateBatch(trainx,trainy,trainoffset)\n",
    "val_generator=GenerateBatch(valx,valy,valoffset)"
   ]
  },
  {
   "cell_type": "code",
   "execution_count": 13,
   "metadata": {
    "colab": {},
    "colab_type": "code",
    "id": "w0b2kB8y0OnA"
   },
   "outputs": [],
   "source": [
    "# out-of memory generative training\n",
    "steps_per_epoch=training_generator.epoch_size(configs['sequence_length'],\n",
    "                                              configs['batch_size'])\n",
    "steps_per_epoch_val=training_generator.epoch_size(configs['sequence_length'],\n",
    "                                              configs['batch_size'])"
   ]
  },
  {
   "cell_type": "code",
   "execution_count": 14,
   "metadata": {
    "colab": {
     "base_uri": "https://localhost:8080/",
     "height": 2125
    },
    "colab_type": "code",
    "id": "blrriHpG0OnC",
    "outputId": "8f379ed0-eb89-4f0c-e4e7-021cf7811be1"
   },
   "outputs": [
    {
     "name": "stdout",
     "output_type": "stream",
     "text": [
      "[Model] Training Started\n",
      "[Model] 100 epochs, 500 batch size, 448.0 batches per epoch\n",
      "Epoch 1/100\n",
      " - 24s - loss: 1.2497 - acc: 0.4173 - val_loss: 1.1172 - val_acc: 0.4392\n",
      "Epoch 2/100\n",
      " - 22s - loss: 1.0700 - acc: 0.4568 - val_loss: 1.1087 - val_acc: 0.4076\n",
      "Epoch 3/100\n",
      " - 22s - loss: 1.0470 - acc: 0.4641 - val_loss: 1.1256 - val_acc: 0.3870\n",
      "Epoch 4/100\n",
      " - 22s - loss: 1.0361 - acc: 0.4695 - val_loss: 1.0824 - val_acc: 0.4374\n",
      "Epoch 5/100\n",
      " - 22s - loss: 1.0313 - acc: 0.4742 - val_loss: 1.1135 - val_acc: 0.4115\n",
      "Epoch 6/100\n",
      " - 22s - loss: 1.0330 - acc: 0.4707 - val_loss: 1.0916 - val_acc: 0.4325\n",
      "Epoch 7/100\n",
      " - 22s - loss: 1.0273 - acc: 0.4767 - val_loss: 1.0778 - val_acc: 0.4371\n",
      "Epoch 8/100\n",
      " - 22s - loss: 1.0222 - acc: 0.4801 - val_loss: 1.0953 - val_acc: 0.4393\n",
      "Epoch 9/100\n",
      " - 23s - loss: 1.0151 - acc: 0.4887 - val_loss: 1.0821 - val_acc: 0.4409\n",
      "Epoch 10/100\n",
      " - 22s - loss: 1.0114 - acc: 0.4932 - val_loss: 1.0773 - val_acc: 0.4511\n",
      "Epoch 11/100\n",
      " - 22s - loss: 1.0065 - acc: 0.4979 - val_loss: 1.1022 - val_acc: 0.4274\n",
      "Epoch 12/100\n",
      " - 22s - loss: 1.0055 - acc: 0.4999 - val_loss: 1.0914 - val_acc: 0.4407\n",
      "Epoch 13/100\n",
      " - 22s - loss: 0.9997 - acc: 0.5036 - val_loss: 1.0621 - val_acc: 0.4564\n",
      "Epoch 14/100\n",
      " - 22s - loss: 0.9913 - acc: 0.5094 - val_loss: 1.0753 - val_acc: 0.4344\n",
      "Epoch 15/100\n",
      " - 22s - loss: 0.9896 - acc: 0.5127 - val_loss: 1.0800 - val_acc: 0.4329\n",
      "Epoch 16/100\n",
      " - 22s - loss: 0.9834 - acc: 0.5164 - val_loss: 1.0553 - val_acc: 0.4505\n",
      "Epoch 17/100\n",
      " - 22s - loss: 0.9806 - acc: 0.5194 - val_loss: 1.0599 - val_acc: 0.4483\n",
      "Epoch 18/100\n",
      " - 22s - loss: 0.9789 - acc: 0.5213 - val_loss: 1.0474 - val_acc: 0.4577\n",
      "Epoch 19/100\n",
      " - 22s - loss: 0.9763 - acc: 0.5215 - val_loss: 1.0687 - val_acc: 0.4523\n",
      "Epoch 20/100\n",
      " - 22s - loss: 0.9736 - acc: 0.5239 - val_loss: 1.0704 - val_acc: 0.4327\n",
      "Epoch 21/100\n",
      " - 22s - loss: 0.9715 - acc: 0.5247 - val_loss: 1.0679 - val_acc: 0.4373\n",
      "Epoch 22/100\n",
      " - 22s - loss: 0.9676 - acc: 0.5293 - val_loss: 1.0941 - val_acc: 0.4228\n",
      "Epoch 23/100\n",
      " - 22s - loss: 0.9649 - acc: 0.5303 - val_loss: 1.0531 - val_acc: 0.4598\n",
      "Epoch 24/100\n",
      " - 22s - loss: 0.9617 - acc: 0.5302 - val_loss: 1.0245 - val_acc: 0.4805\n",
      "Epoch 25/100\n",
      " - 22s - loss: 0.9564 - acc: 0.5371 - val_loss: 1.0316 - val_acc: 0.4755\n",
      "Epoch 26/100\n",
      " - 22s - loss: 0.9492 - acc: 0.5430 - val_loss: 1.0409 - val_acc: 0.4689\n",
      "Epoch 27/100\n",
      " - 22s - loss: 0.9462 - acc: 0.5442 - val_loss: 1.0229 - val_acc: 0.4855\n",
      "Epoch 28/100\n",
      " - 22s - loss: 0.9417 - acc: 0.5506 - val_loss: 1.0295 - val_acc: 0.4845\n",
      "Epoch 29/100\n",
      " - 22s - loss: 0.9379 - acc: 0.5497 - val_loss: 1.0204 - val_acc: 0.4984\n",
      "Epoch 30/100\n",
      " - 22s - loss: 0.9325 - acc: 0.5595 - val_loss: 0.9968 - val_acc: 0.5118\n",
      "Epoch 31/100\n",
      " - 22s - loss: 0.9276 - acc: 0.5620 - val_loss: 1.0156 - val_acc: 0.5049\n",
      "Epoch 32/100\n",
      " - 22s - loss: 0.9193 - acc: 0.5730 - val_loss: 1.0491 - val_acc: 0.4766\n",
      "Epoch 33/100\n",
      " - 22s - loss: 0.9121 - acc: 0.5760 - val_loss: 0.9735 - val_acc: 0.5404\n",
      "Epoch 34/100\n",
      " - 22s - loss: 0.9101 - acc: 0.5765 - val_loss: 0.9604 - val_acc: 0.5606\n",
      "Epoch 35/100\n",
      " - 22s - loss: 0.9039 - acc: 0.5830 - val_loss: 1.0131 - val_acc: 0.5118\n",
      "Epoch 36/100\n",
      " - 22s - loss: 0.8935 - acc: 0.5888 - val_loss: 0.9562 - val_acc: 0.5691\n",
      "Epoch 37/100\n",
      " - 22s - loss: 0.8833 - acc: 0.5980 - val_loss: 0.9692 - val_acc: 0.5587\n",
      "Epoch 38/100\n",
      " - 22s - loss: 0.8778 - acc: 0.6047 - val_loss: 0.9461 - val_acc: 0.5775\n",
      "Epoch 39/100\n",
      " - 22s - loss: 0.8702 - acc: 0.6067 - val_loss: 0.9378 - val_acc: 0.5850\n",
      "Epoch 40/100\n",
      " - 22s - loss: 0.8701 - acc: 0.6053 - val_loss: 0.9510 - val_acc: 0.5799\n",
      "Epoch 41/100\n",
      " - 22s - loss: 0.8569 - acc: 0.6176 - val_loss: 0.9318 - val_acc: 0.5902\n",
      "Epoch 42/100\n",
      " - 22s - loss: 0.8525 - acc: 0.6203 - val_loss: 0.9348 - val_acc: 0.5841\n",
      "Epoch 43/100\n",
      " - 22s - loss: 0.8507 - acc: 0.6201 - val_loss: 0.9280 - val_acc: 0.5819\n",
      "Epoch 44/100\n",
      " - 22s - loss: 0.8407 - acc: 0.6261 - val_loss: 0.9375 - val_acc: 0.5853\n",
      "Epoch 45/100\n",
      " - 22s - loss: 0.8390 - acc: 0.6262 - val_loss: 0.9054 - val_acc: 0.5957\n",
      "Epoch 46/100\n",
      " - 22s - loss: 0.8277 - acc: 0.6357 - val_loss: 0.9267 - val_acc: 0.5920\n",
      "Epoch 47/100\n",
      " - 22s - loss: 0.8268 - acc: 0.6356 - val_loss: 0.9242 - val_acc: 0.5889\n",
      "Epoch 48/100\n",
      " - 22s - loss: 0.8253 - acc: 0.6376 - val_loss: 0.9005 - val_acc: 0.6055\n",
      "Epoch 49/100\n",
      " - 22s - loss: 0.8229 - acc: 0.6404 - val_loss: 0.9425 - val_acc: 0.5849\n",
      "Epoch 50/100\n",
      " - 22s - loss: 0.8199 - acc: 0.6400 - val_loss: 0.9117 - val_acc: 0.5946\n",
      "Epoch 51/100\n",
      " - 22s - loss: 0.8128 - acc: 0.6427 - val_loss: 0.9029 - val_acc: 0.6043\n",
      "Epoch 52/100\n",
      " - 22s - loss: 0.8077 - acc: 0.6471 - val_loss: 0.9186 - val_acc: 0.5984\n",
      "Epoch 53/100\n",
      " - 22s - loss: 0.8044 - acc: 0.6476 - val_loss: 0.8960 - val_acc: 0.6085\n",
      "Epoch 54/100\n",
      " - 22s - loss: 0.8015 - acc: 0.6520 - val_loss: 0.8998 - val_acc: 0.6071\n",
      "Epoch 55/100\n",
      " - 22s - loss: 0.8007 - acc: 0.6505 - val_loss: 0.9121 - val_acc: 0.6028\n",
      "Epoch 56/100\n",
      " - 22s - loss: 0.7935 - acc: 0.6546 - val_loss: 0.8954 - val_acc: 0.6097\n",
      "Epoch 57/100\n",
      " - 22s - loss: 0.7935 - acc: 0.6565 - val_loss: 0.9309 - val_acc: 0.5945\n",
      "Epoch 58/100\n",
      " - 22s - loss: 0.7957 - acc: 0.6547 - val_loss: 0.9225 - val_acc: 0.6019\n",
      "Epoch 59/100\n",
      " - 22s - loss: 0.7835 - acc: 0.6606 - val_loss: 0.9070 - val_acc: 0.6122\n",
      "Epoch 60/100\n",
      " - 22s - loss: 0.7796 - acc: 0.6640 - val_loss: 0.9258 - val_acc: 0.6046\n",
      "Epoch 61/100\n",
      " - 22s - loss: 0.7770 - acc: 0.6651 - val_loss: 0.9342 - val_acc: 0.5960\n",
      "Epoch 62/100\n",
      " - 22s - loss: 0.7722 - acc: 0.6670 - val_loss: 0.9351 - val_acc: 0.5965\n",
      "Epoch 63/100\n",
      " - 22s - loss: 0.7809 - acc: 0.6626 - val_loss: 0.9150 - val_acc: 0.6121\n",
      "Epoch 64/100\n",
      " - 22s - loss: 0.7745 - acc: 0.6674 - val_loss: 0.9075 - val_acc: 0.6113\n",
      "Epoch 65/100\n",
      " - 22s - loss: 0.7717 - acc: 0.6694 - val_loss: 0.9146 - val_acc: 0.6029\n",
      "Epoch 66/100\n",
      " - 22s - loss: 0.7704 - acc: 0.6698 - val_loss: 0.9054 - val_acc: 0.6171\n",
      "Epoch 67/100\n",
      " - 22s - loss: 0.7676 - acc: 0.6730 - val_loss: 0.9059 - val_acc: 0.6143\n",
      "Epoch 68/100\n",
      " - 22s - loss: 0.7632 - acc: 0.6763 - val_loss: 0.8951 - val_acc: 0.6143\n",
      "Epoch 69/100\n",
      " - 22s - loss: 0.7634 - acc: 0.6747 - val_loss: 0.8979 - val_acc: 0.6149\n",
      "Epoch 70/100\n",
      " - 22s - loss: 0.7673 - acc: 0.6727 - val_loss: 0.9340 - val_acc: 0.5982\n",
      "Epoch 71/100\n",
      " - 22s - loss: 0.7690 - acc: 0.6710 - val_loss: 0.8975 - val_acc: 0.6106\n",
      "Epoch 72/100\n",
      " - 22s - loss: 0.7622 - acc: 0.6770 - val_loss: 0.8803 - val_acc: 0.6313\n",
      "Epoch 73/100\n",
      " - 22s - loss: 0.7562 - acc: 0.6791 - val_loss: 0.8992 - val_acc: 0.6231\n",
      "Epoch 74/100\n",
      " - 22s - loss: 0.7505 - acc: 0.6830 - val_loss: 0.9067 - val_acc: 0.6234\n",
      "Epoch 75/100\n",
      " - 22s - loss: 0.7494 - acc: 0.6844 - val_loss: 0.8957 - val_acc: 0.6261\n",
      "Epoch 76/100\n",
      " - 22s - loss: 0.7466 - acc: 0.6856 - val_loss: 0.8891 - val_acc: 0.6254\n",
      "Epoch 77/100\n",
      " - 22s - loss: 0.7479 - acc: 0.6847 - val_loss: 0.9124 - val_acc: 0.6188\n",
      "Epoch 78/100\n",
      " - 22s - loss: 0.7497 - acc: 0.6846 - val_loss: 0.9027 - val_acc: 0.6229\n",
      "Epoch 79/100\n",
      " - 22s - loss: 0.7415 - acc: 0.6874 - val_loss: 0.9080 - val_acc: 0.6246\n",
      "Epoch 80/100\n",
      " - 22s - loss: 0.7412 - acc: 0.6898 - val_loss: 0.8791 - val_acc: 0.6317\n",
      "Epoch 81/100\n",
      " - 22s - loss: 0.7372 - acc: 0.6895 - val_loss: 0.9219 - val_acc: 0.6119\n",
      "Epoch 82/100\n",
      " - 22s - loss: 0.7445 - acc: 0.6864 - val_loss: 0.8985 - val_acc: 0.6209\n",
      "Epoch 83/100\n",
      " - 22s - loss: 0.7383 - acc: 0.6897 - val_loss: 0.8825 - val_acc: 0.6357\n",
      "Epoch 84/100\n",
      " - 22s - loss: 0.7334 - acc: 0.6921 - val_loss: 0.9036 - val_acc: 0.6182\n",
      "Epoch 85/100\n",
      " - 22s - loss: 0.7320 - acc: 0.6936 - val_loss: 0.8954 - val_acc: 0.6348\n",
      "Epoch 86/100\n",
      " - 22s - loss: 0.7304 - acc: 0.6940 - val_loss: 0.8913 - val_acc: 0.6355\n",
      "Epoch 87/100\n",
      " - 22s - loss: 0.7328 - acc: 0.6938 - val_loss: 0.9147 - val_acc: 0.6209\n",
      "Epoch 88/100\n",
      " - 22s - loss: 0.7275 - acc: 0.6960 - val_loss: 0.8927 - val_acc: 0.6340\n",
      "Epoch 89/100\n",
      " - 22s - loss: 0.7208 - acc: 0.7000 - val_loss: 0.8911 - val_acc: 0.6358\n",
      "Epoch 90/100\n",
      " - 22s - loss: 0.7211 - acc: 0.6996 - val_loss: 0.9080 - val_acc: 0.6250\n",
      "Epoch 91/100\n",
      " - 22s - loss: 0.7218 - acc: 0.7003 - val_loss: 0.9034 - val_acc: 0.6309\n",
      "Epoch 92/100\n",
      " - 22s - loss: 0.7209 - acc: 0.6983 - val_loss: 0.8988 - val_acc: 0.6337\n",
      "Epoch 93/100\n",
      " - 22s - loss: 0.7169 - acc: 0.7005 - val_loss: 0.8927 - val_acc: 0.6327\n",
      "Epoch 94/100\n",
      " - 22s - loss: 0.7135 - acc: 0.7037 - val_loss: 0.9065 - val_acc: 0.6275\n",
      "Epoch 95/100\n",
      " - 22s - loss: 0.7259 - acc: 0.6969 - val_loss: 0.9182 - val_acc: 0.6272\n"
     ]
    },
    {
     "name": "stdout",
     "output_type": "stream",
     "text": [
      "Epoch 96/100\n",
      " - 22s - loss: 0.7184 - acc: 0.7029 - val_loss: 0.9043 - val_acc: 0.6277\n",
      "Epoch 97/100\n",
      " - 22s - loss: 0.7188 - acc: 0.7011 - val_loss: 0.8933 - val_acc: 0.6323\n",
      "Epoch 98/100\n",
      " - 22s - loss: 0.7183 - acc: 0.7018 - val_loss: 0.8891 - val_acc: 0.6397\n",
      "Epoch 99/100\n",
      " - 22s - loss: 0.7119 - acc: 0.7052 - val_loss: 0.9029 - val_acc: 0.6293\n",
      "Epoch 100/100\n",
      " - 22s - loss: 0.7063 - acc: 0.7083 - val_loss: 0.9010 - val_acc: 0.6321\n",
      "[Model] Training Completed. Model saved as saved_models/09122018-183910-e100.h5\n",
      "Time taken: 0:36:56.858661\n"
     ]
    }
   ],
   "source": [
    "# GenerateBatch2 contains logic to avoid running over stock/day divides\n",
    "history=train_generator(\n",
    "    model=model,\n",
    "    train_gen=training_generator.GenerateBatch2(configs['sequence_length'],\n",
    "                                               configs['batch_size'],\n",
    "                                               configs['nflag']),\n",
    "    val_gen=val_generator.GenerateBatch2(configs['sequence_length'],\n",
    "                                        configs['batch_size'],\n",
    "                                        configs['nflag']),\n",
    "    epochs=configs['epochs'],\n",
    "    batch_size=configs['batch_size'],\n",
    "    steps_per_epoch=steps_per_epoch,\n",
    "    validation_steps=steps_per_epoch_val,\n",
    "    save_dir=configs['save_dir']\n",
    "    )\n",
    "\n",
    "    "
   ]
  },
  {
   "cell_type": "code",
   "execution_count": 15,
   "metadata": {
    "colab": {},
    "colab_type": "code",
    "id": "sM5Mq6Eiz6gP"
   },
   "outputs": [],
   "source": [
    "#from keras.models import load_model\n",
    "#model = load_model('saved_models/04122018-125307-e20.h5')"
   ]
  },
  {
   "cell_type": "code",
   "execution_count": 16,
   "metadata": {
    "colab": {
     "base_uri": "https://localhost:8080/",
     "height": 355
    },
    "colab_type": "code",
    "id": "DPDi5kAW0OnF",
    "outputId": "d535f7a3-4c92-499b-f77f-1281f5c99fe9"
   },
   "outputs": [
    {
     "data": {
      "text/plain": [
       "Text(0,0.5,'Cost')"
      ]
     },
     "execution_count": 16,
     "metadata": {},
     "output_type": "execute_result"
    },
    {
     "data": {
      "image/png": "[encoded data removed]",
      "text/plain": [
       "<Figure size 1080x360 with 1 Axes>"
      ]
     },
     "metadata": {},
     "output_type": "display_data"
    }
   ],
   "source": [
    "plt.figure(figsize=(15,5))\n",
    "plt.plot(history.history['loss'],'b--',lw=2,label='train_loss')\n",
    "plt.plot(history.history['val_loss'],'g-',lw=2,label='val_loss')\n",
    "plt.legend()\n",
    "plt.ylim([.5,1.3])\n",
    "plt.xlabel('Epochs')\n",
    "plt.ylabel('Cost')"
   ]
  },
  {
   "cell_type": "code",
   "execution_count": 17,
   "metadata": {
    "colab": {},
    "colab_type": "code",
    "id": "P5CscUax0OnL"
   },
   "outputs": [],
   "source": [
    "# make our predictions - start from beginning\n",
    "train_gen=training_generator.GenerateBatch2(configs['sequence_length'],configs['batch_size'],configs['nflag'])\n",
    "val_gen=val_generator.GenerateBatch2(configs['sequence_length'],configs['batch_size'],configs['nflag'])"
   ]
  },
  {
   "cell_type": "code",
   "execution_count": 18,
   "metadata": {
    "colab": {},
    "colab_type": "code",
    "id": "dSJU9k7C0OnO"
   },
   "outputs": [],
   "source": [
    "y_train=[]\n",
    "yhat_train=[]\n",
    "y_val=[]\n",
    "yhat_val=[]"
   ]
  },
  {
   "cell_type": "code",
   "execution_count": 19,
   "metadata": {
    "colab": {},
    "colab_type": "code",
    "id": "Mv-Bygy70OnR"
   },
   "outputs": [],
   "source": [
    "# predict using same sequence lengths and batches as in training\n",
    "for i in range(int(steps_per_epoch)):\n",
    "    dat=next(train_gen)\n",
    "    y_train.append(dat[1])\n",
    "    yhat_train.append(model.predict(dat[0]))\n",
    "for i in range(int(steps_per_epoch_val)):\n",
    "    dat=next(val_gen)\n",
    "    y_val.append(dat[1])\n",
    "    yhat_val.append(model.predict(dat[0]))\n",
    "                                            "
   ]
  },
  {
   "cell_type": "code",
   "execution_count": 20,
   "metadata": {
    "colab": {},
    "colab_type": "code",
    "id": "jBtQSLKI0OnY"
   },
   "outputs": [],
   "source": [
    "burn_in=0 # drop early predictions \n",
    "y_train=np.concatenate(y_train).reshape(-1,3)[burn_in:]\n",
    "yhat_train=np.concatenate(yhat_train).reshape(-1,3)[burn_in:]\n",
    "y_val=np.concatenate(y_val).reshape(-1,3)[burn_in:]\n",
    "yhat_val=np.concatenate(yhat_val).reshape(-1,3)[burn_in:]\n"
   ]
  },
  {
   "cell_type": "markdown",
   "metadata": {
    "colab_type": "text",
    "id": "OcFMwGttz6gg"
   },
   "source": [
    "### Training and Validation Performance"
   ]
  },
  {
   "cell_type": "code",
   "execution_count": 21,
   "metadata": {
    "colab": {
     "base_uri": "https://localhost:8080/",
     "height": 493
    },
    "colab_type": "code",
    "id": "ESxiLCRb0One",
    "outputId": "b0d613e2-6821-4e73-f1f5-3b3131b40423"
   },
   "outputs": [
    {
     "name": "stdout",
     "output_type": "stream",
     "text": [
      "Training \n",
      "             precision    recall  f1-score   support\n",
      "\n",
      "          0       0.67      0.71      0.69     83215\n",
      "          1       0.64      0.65      0.64     41799\n",
      "          2       0.72      0.68      0.70     91820\n",
      "\n",
      "avg / total       0.68      0.68      0.68    216834\n",
      "\n",
      "cohen kappa score: 0.50\n",
      "Test \n",
      "             precision    recall  f1-score   support\n",
      "\n",
      "          0       0.62      0.63      0.63     79075\n",
      "          1       0.63      0.69      0.65     55117\n",
      "          2       0.66      0.60      0.62     82955\n",
      "\n",
      "avg / total       0.63      0.63      0.63    217147\n",
      "\n",
      "cohen kappa score: 0.44\n"
     ]
    }
   ],
   "source": [
    "# How well have we done on training data\n",
    "print (\"Training \")\n",
    "Y=np.argmax(y_train,axis=1)\n",
    "Yhat=np.argmax(yhat_train,axis=1)\n",
    "c=confusion_matrix(Y,Yhat)\n",
    "c=np.concatenate((c,np.sum(c,axis=1).reshape(-1,1)),axis=1)\n",
    "c=np.concatenate((c,np.sum(c,axis=0).reshape(1,-1)),axis=0)\n",
    "#print(c)\n",
    "print(classification_report(Yhat,Y))\n",
    "print(\"cohen kappa score: %.2f\" %cohen_kappa_score(Yhat,Y))\n",
    "# How well have we done on test data\n",
    "print(\"Test \")\n",
    "Y=np.argmax(y_val,axis=1)\n",
    "Yhat=np.argmax(yhat_val,axis=1)\n",
    "c=confusion_matrix(Y,Yhat)\n",
    "c=np.concatenate((c,np.sum(c,axis=1).reshape(-1,1)),axis=1)\n",
    "c=np.concatenate((c,np.sum(c,axis=0).reshape(1,-1)),axis=0)\n",
    "#print(c)\n",
    "print(classification_report(Yhat,Y))\n",
    "print(\"cohen kappa score: %.2f\" % cohen_kappa_score(Yhat,Y))"
   ]
  },
  {
   "cell_type": "markdown",
   "metadata": {
    "colab_type": "text",
    "id": "NA2Rc6X5z6hE"
   },
   "source": [
    "###  Find highest predictions for each category in each batch. Plot highest values"
   ]
  },
  {
   "cell_type": "code",
   "execution_count": 22,
   "metadata": {
    "colab": {},
    "colab_type": "code",
    "id": "ygkCC6pJz6hE"
   },
   "outputs": [],
   "source": [
    "dn, sm, up = [],[],[]\n",
    "\n",
    "# find the highest scoring input for each categorical output category in each batch\n",
    "# make our predictions - start from beginning\n",
    "train_gen=training_generator.GenerateBatch2(configs['sequence_length'],configs['batch_size'],configs['nflag'])\n",
    "for i in range(int(steps_per_epoch)):\n",
    "    dat=next(train_gen)[0]\n",
    "    yhat=model.predict(dat)\n",
    "    #\n",
    "    dn.append(dat[np.argmax(yhat[:,2])])\n",
    "    sm.append(dat[np.argmax(yhat[:,1])])\n",
    "    up.append(dat[np.argmax(yhat[:,0])])\n",
    "   "
   ]
  },
  {
   "cell_type": "code",
   "execution_count": 23,
   "metadata": {
    "colab": {},
    "colab_type": "code",
    "id": "0tY7cyhHcjbN"
   },
   "outputs": [],
   "source": [
    "dnavg=np.average(np.array(dn),axis=0)\n",
    "upavg=np.average(np.array(up),axis=0)"
   ]
  },
  {
   "cell_type": "code",
   "execution_count": 24,
   "metadata": {
    "colab": {
     "base_uri": "https://localhost:8080/",
     "height": 350
    },
    "colab_type": "code",
    "id": "FTkaLRa2kIHh",
    "outputId": "f2399e12-1204-4542-fb65-212e0f56f754"
   },
   "outputs": [
    {
     "data": {
      "image/png": "[encoded data removed]",
      "text/plain": [
       "<Figure size 1440x360 with 4 Axes>"
      ]
     },
     "metadata": {},
     "output_type": "display_data"
    }
   ],
   "source": [
    "t=np.array([0])\n",
    "plt.figure(figsize=(20,5))\n",
    "plt.suptitle(\"Up predictions\")\n",
    "plt.subplot(1,4,1)\n",
    "_=plt.plot(upavg[:,t])\n",
    "plt.title('price:ask')\n",
    "plt.subplot(1,4,2)\n",
    "_=plt.plot(upavg[:,t+2])\n",
    "plt.title('price:bid')\n",
    "plt.subplot(1,4,3)\n",
    "_=plt.plot(upavg[:, t+1])\n",
    "plt.title('vol:ask')\n",
    "plt.subplot(1,4,4)\n",
    "_=plt.plot(upavg[:,t+3])\n",
    "_=plt.title('vol:bid')"
   ]
  },
  {
   "cell_type": "code",
   "execution_count": 25,
   "metadata": {
    "colab": {
     "base_uri": "https://localhost:8080/",
     "height": 350
    },
    "colab_type": "code",
    "id": "bggq3NJTz6hJ",
    "outputId": "7e1775b3-5c8a-4d86-c5ba-50db6b90f379"
   },
   "outputs": [
    {
     "data": {
      "image/png": "[encoded data removed]",
      "text/plain": [
       "<Figure size 1440x360 with 4 Axes>"
      ]
     },
     "metadata": {},
     "output_type": "display_data"
    }
   ],
   "source": [
    "plt.figure(figsize=(20,5))\n",
    "plt.suptitle(\"Down prediction\")\n",
    "plt.subplot(1,4,1)\n",
    "_=plt.plot(dnavg[:,t])\n",
    "plt.title('price:ask')\n",
    "plt.subplot(1,4,2)\n",
    "_=plt.plot(dnavg[:,t+2])\n",
    "plt.title('price:bid')\n",
    "plt.subplot(1,4,3)\n",
    "_=plt.plot(dnavg[:, t+1])\n",
    "plt.title('vol;ask')\n",
    "plt.subplot(1,4,4)\n",
    "_=plt.plot(dnavg[:,t+3])\n",
    "_=plt.title('vol:bid')"
   ]
  },
  {
   "cell_type": "markdown",
   "metadata": {
    "colab_type": "text",
    "id": "hxtxADQVz6hQ"
   },
   "source": [
    "### Perform Gradient Ascent on each category (final softmax layer) to generate input with strongest signal."
   ]
  },
  {
   "cell_type": "code",
   "execution_count": 26,
   "metadata": {
    "colab": {
     "base_uri": "https://localhost:8080/",
     "height": 136
    },
    "colab_type": "code",
    "id": "ZdS0pNjHz6hQ",
    "outputId": "a1e7519e-e2f6-4774-a020-a3021a0fe5d6"
   },
   "outputs": [
    {
     "ename": "NameError",
     "evalue": "name 'layer_dict' is not defined",
     "output_type": "error",
     "traceback": [
      "\u001b[0;31m---------------------------------------------------------------------------\u001b[0m",
      "\u001b[0;31mNameError\u001b[0m                                 Traceback (most recent call last)",
      "\u001b[0;32m<ipython-input-26-6439e1b0a7e9>\u001b[0m in \u001b[0;36m<module>\u001b[0;34m()\u001b[0m\n\u001b[1;32m      2\u001b[0m \u001b[0mylabel\u001b[0m\u001b[0;34m=\u001b[0m\u001b[0;34m[\u001b[0m\u001b[0;34m]\u001b[0m\u001b[0;34m\u001b[0m\u001b[0m\n\u001b[1;32m      3\u001b[0m \u001b[0mlayer_name\u001b[0m\u001b[0;34m=\u001b[0m\u001b[0;34m'dense_1'\u001b[0m \u001b[0;31m#final layer - categorical\u001b[0m\u001b[0;34m\u001b[0m\u001b[0m\n\u001b[0;32m----> 4\u001b[0;31m \u001b[0mlayer_output\u001b[0m\u001b[0;34m=\u001b[0m\u001b[0mlayer_dict\u001b[0m\u001b[0;34m[\u001b[0m\u001b[0mlayer_name\u001b[0m\u001b[0;34m]\u001b[0m\u001b[0;34m.\u001b[0m\u001b[0moutput\u001b[0m\u001b[0;34m\u001b[0m\u001b[0m\n\u001b[0m\u001b[1;32m      5\u001b[0m \u001b[0mprint\u001b[0m\u001b[0;34m(\u001b[0m\u001b[0mlayer_output\u001b[0m\u001b[0;34m.\u001b[0m\u001b[0mshape\u001b[0m\u001b[0;34m)\u001b[0m\u001b[0;34m\u001b[0m\u001b[0m\n\u001b[1;32m      6\u001b[0m \u001b[0;32mfor\u001b[0m \u001b[0mi\u001b[0m \u001b[0;32min\u001b[0m \u001b[0mrange\u001b[0m\u001b[0;34m(\u001b[0m\u001b[0;36m3\u001b[0m\u001b[0;34m)\u001b[0m\u001b[0;34m:\u001b[0m\u001b[0;34m\u001b[0m\u001b[0m\n",
      "\u001b[0;31mNameError\u001b[0m: name 'layer_dict' is not defined"
     ]
    }
   ],
   "source": [
    "#visualize\n",
    "ylabel=[]\n",
    "layer_name='dense_1' #final layer - categorical\n",
    "layer_output=layer_dict[layer_name].output\n",
    "print(layer_output.shape)\n",
    "for i in range(3):\n",
    "    print('processing label %d' % i)\n",
    "    loss=layer_output[:,i] #want to increase value of label i\n",
    "    #loss=K.mean(layer_output[:,filter_index:,:])\n",
    "    grads=K.gradients(loss,input_img)[0]\n",
    "    grads=normalize(grads)\n",
    "    iterate=K.function([input_img],[loss,grads])\n",
    "    step=1\n",
    "    input_img_data=np.random.random((1,configs['sequence_length'],len(colx)))\n",
    "    for j in range(1000):\n",
    "        loss_value,grad_values=iterate([input_img_data])\n",
    "        input_img_data +=grad_values*step\n",
    "        #print('Current loss values:', loss_value)\n",
    "    print(loss_value)\n",
    "    ylabel.append((input_img_data[0],loss_value))"
   ]
  },
  {
   "cell_type": "code",
   "execution_count": null,
   "metadata": {
    "colab": {
     "base_uri": "https://localhost:8080/",
     "height": 335
    },
    "colab_type": "code",
    "id": "izIAyVb2z6hY",
    "outputId": "6af7d863-6a08-4735-8862-1d2c6c5a204a"
   },
   "outputs": [],
   "source": [
    "\n",
    "y=ylabel[0][0]\n",
    "\n",
    "t=np.array([0])\n",
    "#\n",
    "y=ylabel[0][0]\n",
    "plt.figure(figsize=(15,5))\n",
    "plt.subplot(1,2,1)\n",
    "plt.title('Generated Image for inside bid/ask for UP Prediction')\n",
    "plt.plot(y[:,t])\n",
    "plt.plot(y[:,t+2])\n",
    "#\n",
    "y=ylabel[2][0]\n",
    "plt.subplot(1,2,2)\n",
    "plt.title(' Generated Image for inside bid/ask for DOWN Prediction')\n",
    "plt.plot(y[:,t])\n",
    "plt.plot(y[:,t+2])\n",
    "y=ylabel[0][0]"
   ]
  },
  {
   "cell_type": "code",
   "execution_count": null,
   "metadata": {
    "colab": {},
    "colab_type": "code",
    "id": "grmT4M1Nz6ha"
   },
   "outputs": [],
   "source": []
  },
  {
   "cell_type": "code",
   "execution_count": null,
   "metadata": {},
   "outputs": [],
   "source": []
  }
 ],
 "metadata": {
  "accelerator": "GPU",
  "colab": {
   "collapsed_sections": [],
   "name": "CONV2D - Master.ipynb",
   "provenance": [],
   "version": "0.3.2"
  },
  "kernelspec": {
   "display_name": "Environment (conda_tensorflow_p36)",
   "language": "python",
   "name": "conda_tensorflow_p36"
  },
  "language_info": {
   "codemirror_mode": {
    "name": "ipython",
    "version": 3
   },
   "file_extension": ".py",
   "mimetype": "text/x-python",
   "name": "python",
   "nbconvert_exporter": "python",
   "pygments_lexer": "ipython3",
   "version": "3.6.5"
  }
 },
 "nbformat": 4,
 "nbformat_minor": 1
}
