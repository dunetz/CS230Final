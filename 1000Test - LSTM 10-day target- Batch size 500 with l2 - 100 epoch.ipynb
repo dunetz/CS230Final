{
 "cells": [
  {
   "cell_type": "code",
   "execution_count": 1,
   "metadata": {
    "colab": {},
    "colab_type": "code",
    "collapsed": true,
    "id": "Yp5xcGQP0iow"
   },
   "outputs": [],
   "source": [
    "#from google.colab import drive"
   ]
  },
  {
   "cell_type": "code",
   "execution_count": 2,
   "metadata": {
    "colab": {
     "base_uri": "https://localhost:8080/",
     "height": 54
    },
    "colab_type": "code",
    "collapsed": true,
    "id": "j4ddX9Wp0m6h",
    "outputId": "04ab0ff6-7dbf-4fad-e41e-0655a078fa22"
   },
   "outputs": [],
   "source": [
    "#drive.mount('/content/drive')"
   ]
  },
  {
   "cell_type": "code",
   "execution_count": 3,
   "metadata": {
    "colab": {},
    "colab_type": "code",
    "collapsed": true,
    "id": "U4OI2JUT01pY"
   },
   "outputs": [],
   "source": [
    "#import os\n",
    "#os.chdir(\"/content/drive\")"
   ]
  },
  {
   "cell_type": "code",
   "execution_count": 4,
   "metadata": {
    "colab": {
     "base_uri": "https://localhost:8080/",
     "height": 34
    },
    "colab_type": "code",
    "collapsed": true,
    "id": "iEyds35W07YL",
    "outputId": "7f52a6ce-09b9-4b27-9f0e-734b1f140579"
   },
   "outputs": [],
   "source": [
    "#cd My Drive"
   ]
  },
  {
   "cell_type": "code",
   "execution_count": 5,
   "metadata": {
    "colab": {
     "base_uri": "https://localhost:8080/",
     "height": 34
    },
    "colab_type": "code",
    "collapsed": true,
    "id": "z3z6DN5o1C1U",
    "outputId": "0ec8c793-312f-46a0-c191-c88c0b589a9b"
   },
   "outputs": [],
   "source": [
    "#cd CS230-master"
   ]
  },
  {
   "cell_type": "code",
   "execution_count": 6,
   "metadata": {
    "colab": {},
    "colab_type": "code",
    "collapsed": true,
    "id": "y0PpAUvr0Omk"
   },
   "outputs": [],
   "source": [
    "import pandas as pd\n",
    "import numpy as np\n",
    "import matplotlib.pylab as plt\n",
    "import time\n",
    "%matplotlib inline\n",
    "# \n",
    "from sklearn.metrics import confusion_matrix, classification_report, cohen_kappa_score"
   ]
  },
  {
   "cell_type": "code",
   "execution_count": 7,
   "metadata": {
    "colab": {
     "base_uri": "https://localhost:8080/",
     "height": 34
    },
    "colab_type": "code",
    "id": "_-lC-kwq0Omo",
    "outputId": "3257b983-4c41-48f0-b0c4-fdca7da177ee"
   },
   "outputs": [
    {
     "name": "stderr",
     "output_type": "stream",
     "text": [
      "Using TensorFlow backend.\n"
     ]
    }
   ],
   "source": [
    "import os; \n",
    "#work-around to allow import from directory on same level\n",
    "os.sys.path.append(os.path.dirname(os.path.abspath('.')))\n",
    "from input.DataLoader import DataLoader\n",
    "from input.GenerateBatch import GenerateBatch\n",
    "from model.Model3 import train_generator"
   ]
  },
  {
   "cell_type": "code",
   "execution_count": 8,
   "metadata": {
    "colab": {},
    "colab_type": "code",
    "collapsed": true,
    "id": "CDkNW07Q0Omu"
   },
   "outputs": [],
   "source": [
    "from sklearn.preprocessing import MinMaxScaler\n",
    "from keras import regularizers\n",
    "from keras.models import Sequential, load_model\n",
    "from keras.layers import LSTM, Dense,Dropout,Activation, Lambda\n",
    "from keras.layers import Conv1D, Conv2D, MaxPooling1D, Flatten\n",
    "from keras.layers import  MaxPooling1D, MaxPooling2D,Reshape, BatchNormalization\n",
    "from keras.utils import to_categorical\n",
    "from keras.metrics import categorical_crossentropy\n",
    "from scipy.stats import linregress\n",
    "from sklearn.utils import shuffle\n",
    "from sklearn.metrics import accuracy_score\n",
    "from sklearn.metrics import confusion_matrix, classification_report, cohen_kappa_score\n",
    "from keras.backend import transpose, permute_dimensions,squeeze\n",
    "from keras.optimizers import Adam"
   ]
  },
  {
   "cell_type": "code",
   "execution_count": 9,
   "metadata": {
    "colab": {
     "base_uri": "https://localhost:8080/",
     "height": 51
    },
    "colab_type": "code",
    "id": "SnCCfwPL0Omv",
    "outputId": "8fba1a7f-a9ff-4e6f-e91e-c72c0162e86d"
   },
   "outputs": [
    {
     "name": "stdout",
     "output_type": "stream",
     "text": [
      "trainday [0, 1, 2, 3, 4, 5, 6, 7] valdays [8, 9] colx range(0, 40) coly 148\n",
      "{'batch_size': 500, 'sequence_length': 20, 'epochs': 100, 'learning_rate': 0.001, 'learning_rate_decay': 0, 'opt': <keras.optimizers.Adam object at 0x7f5a6324ffd0>, 'save_dir': 'saved_models', 'nflag': False}\n"
     ]
    }
   ],
   "source": [
    "# PARAMETERS AND COMMENTs\n",
    "#\n",
    "# LSTM with 10bar target and 0-5.6-7 training/val \n",
    "# standardize window = false\n",
    "# Dropout back to 50; epochs back to 60\n",
    "# Try l2 reg on dense layer with small batch size - 50\n",
    "configs={}\n",
    "configs['batch_size']=500\n",
    "\n",
    "configs['sequence_length']=20\n",
    "configs['epochs']=100\n",
    "configs['learning_rate']=.001\n",
    "configs['learning_rate_decay']=0\n",
    "configs['opt']=Adam(lr=configs['learning_rate'],\n",
    "                   decay=configs['learning_rate_decay'])\n",
    "configs['save_dir']='saved_models'\n",
    "configs['nflag']=False #standardize each window\n",
    "\n",
    "\n",
    "\n",
    "traindays=[0,1,2,3,4,5,6,7] #training and val days to look at in dataset\n",
    "valdays=[8,9]\n",
    "colx=range(40)# columns to look at in dataset - 0-40 are LOB\n",
    "#colx=np.concatenate([np.arange(20),86+np.arange(20)])\n",
    "coly=148 # target 144-148 are 1,2,3,5,10\n",
    "generate_files=True\n",
    "print('trainday',traindays,'valdays',valdays,'colx',colx,'coly',coly)\n",
    "print(configs)"
   ]
  },
  {
   "cell_type": "markdown",
   "metadata": {
    "colab_type": "text",
    "id": "mNamKqckz6f7"
   },
   "source": [
    "### Generate data from zip files or retrieve from pkl files in directory"
   ]
  },
  {
   "cell_type": "code",
   "execution_count": 10,
   "metadata": {
    "colab": {},
    "colab_type": "code",
    "collapsed": true,
    "id": "IGGsKI3ez6gA"
   },
   "outputs": [],
   "source": [
    "if generate_files==True:\n",
    "  path='data/'\n",
    "  d=DataLoader(path)\n",
    "  traindf=d.get_days(traindays)\n",
    "  trainoffset=d.get_stock_offset(traindays)\n",
    "  valdf=d.get_days(valdays)\n",
    "  valoffset=d.get_stock_offset(valdays)\n",
    "\n",
    "  traindf.to_pickle(\"traindf.pkl\")\n",
    "  valdf.to_pickle(\"valdf.pkl\")\n",
    "  np.save(\"trainoffset\",trainoffset)\n",
    "  np.save(\"valoffset\",valoffset)\n",
    "\n",
    "else:\n",
    "  traindf=pd.read_pickle('traindf.pkl')\n",
    "  valdf=pd.read_pickle('valdf.pkl')\n",
    "  trainoffset=np.load(\"trainoffset.npy\")\n",
    "  valoffset=np.load(\"valoffset.npy\")\n",
    "\n",
    "# Select X and Y training and dev data. Y is categorical\n",
    "trainx=traindf.iloc[:,colx].values\n",
    "trainy=to_categorical(traindf.iloc[:,coly].values-1)\n",
    "valx=valdf.iloc[:,colx].values\n",
    "valy=to_categorical(valdf.iloc[:,coly].values-1)\n",
    "\n"
   ]
  },
  {
   "cell_type": "markdown",
   "metadata": {
    "colab_type": "text",
    "id": "rR0QQ6eBz6gC"
   },
   "source": [
    "### Build and compile model"
   ]
  },
  {
   "cell_type": "code",
   "execution_count": 11,
   "metadata": {
    "colab": {
     "base_uri": "https://localhost:8080/",
     "height": 476
    },
    "colab_type": "code",
    "id": "uZY-jfT70Om6",
    "outputId": "4ecc4ab7-ea7a-4975-c5ec-3b731ace975b"
   },
   "outputs": [
    {
     "name": "stdout",
     "output_type": "stream",
     "text": [
      "_________________________________________________________________\n",
      "Layer (type)                 Output Shape              Param #   \n",
      "=================================================================\n",
      "lstm_1 (LSTM)                (None, 100)               56400     \n",
      "_________________________________________________________________\n",
      "dropout_1 (Dropout)          (None, 100)               0         \n",
      "_________________________________________________________________\n",
      "dense_1 (Dense)              (None, 3)                 303       \n",
      "=================================================================\n",
      "Total params: 56,703\n",
      "Trainable params: 56,703\n",
      "Non-trainable params: 0\n",
      "_________________________________________________________________\n"
     ]
    }
   ],
   "source": [
    "model = Sequential()\n",
    "model.add(LSTM(100,input_shape=(configs['sequence_length'],len(colx)),kernel_regularizer=regularizers.l2(0.01), return_sequences=False))\n",
    "model.add(Dropout(0.50))\n",
    "#self.model.add(Dense(100,kernel_regularizer=regularizers.l2(0.01),activation='relu'))\n",
    "#self.model.add(Dropout(0.20))\n",
    "model.add(Dense(3,activation=\"softmax\"))\n",
    "opt=Adam(lr=configs['learning_rate'],decay=configs['learning_rate_decay'])\n",
    "model.compile(loss=\"categorical_crossentropy\", optimizer=configs['opt'],metrics=['accuracy'])\n",
    "model.summary()"
   ]
  },
  {
   "cell_type": "markdown",
   "metadata": {
    "colab_type": "text",
    "id": "VtnITiYbz6gF"
   },
   "source": [
    "### Model Fitting"
   ]
  },
  {
   "cell_type": "code",
   "execution_count": 12,
   "metadata": {
    "colab": {},
    "colab_type": "code",
    "collapsed": true,
    "id": "pyyecGn40Om-"
   },
   "outputs": [],
   "source": [
    "training_generator=GenerateBatch(trainx,trainy,trainoffset)\n",
    "val_generator=GenerateBatch(valx,valy,valoffset)"
   ]
  },
  {
   "cell_type": "code",
   "execution_count": 13,
   "metadata": {
    "colab": {},
    "colab_type": "code",
    "collapsed": true,
    "id": "w0b2kB8y0OnA"
   },
   "outputs": [],
   "source": [
    "# out-of memory generative training\n",
    "steps_per_epoch=training_generator.epoch_size(configs['sequence_length'],\n",
    "                                              configs['batch_size'])\n",
    "steps_per_epoch_val=training_generator.epoch_size(configs['sequence_length'],\n",
    "                                              configs['batch_size'])"
   ]
  },
  {
   "cell_type": "code",
   "execution_count": 14,
   "metadata": {
    "colab": {
     "base_uri": "https://localhost:8080/",
     "height": 2125
    },
    "colab_type": "code",
    "id": "blrriHpG0OnC",
    "outputId": "8f379ed0-eb89-4f0c-e4e7-021cf7811be1"
   },
   "outputs": [
    {
     "name": "stdout",
     "output_type": "stream",
     "text": [
      "[Model] Training Started\n",
      "[Model] 100 epochs, 500 batch size, 639.0 batches per epoch\n",
      "Epoch 1/100\n",
      " - 32s - loss: 1.2027 - acc: 0.4339 - val_loss: 1.1998 - val_acc: 0.3818\n",
      "Epoch 2/100\n",
      " - 30s - loss: 1.0608 - acc: 0.4575 - val_loss: 1.1909 - val_acc: 0.3799\n",
      "Epoch 3/100\n",
      " - 30s - loss: 1.0461 - acc: 0.4667 - val_loss: 1.1749 - val_acc: 0.3777\n",
      "Epoch 4/100\n",
      " - 30s - loss: 1.0415 - acc: 0.4664 - val_loss: 1.1367 - val_acc: 0.3902\n",
      "Epoch 5/100\n",
      " - 30s - loss: 1.0433 - acc: 0.4645 - val_loss: 1.1809 - val_acc: 0.3803\n",
      "Epoch 6/100\n",
      " - 30s - loss: 1.0424 - acc: 0.4661 - val_loss: 1.1316 - val_acc: 0.3974\n",
      "Epoch 7/100\n",
      " - 30s - loss: 1.0391 - acc: 0.4707 - val_loss: 1.1514 - val_acc: 0.3955\n",
      "Epoch 8/100\n",
      " - 30s - loss: 1.0302 - acc: 0.4780 - val_loss: 1.1604 - val_acc: 0.3842\n",
      "Epoch 9/100\n",
      " - 30s - loss: 1.0302 - acc: 0.4741 - val_loss: 1.1154 - val_acc: 0.4054\n",
      "Epoch 10/100\n",
      " - 30s - loss: 1.0258 - acc: 0.4819 - val_loss: 1.1312 - val_acc: 0.3978\n",
      "Epoch 11/100\n",
      " - 30s - loss: 1.0191 - acc: 0.4857 - val_loss: 1.1393 - val_acc: 0.3941\n",
      "Epoch 12/100\n",
      " - 30s - loss: 1.0137 - acc: 0.4911 - val_loss: 1.1044 - val_acc: 0.4143\n",
      "Epoch 13/100\n",
      " - 30s - loss: 1.0055 - acc: 0.4988 - val_loss: 1.0969 - val_acc: 0.4087\n",
      "Epoch 14/100\n",
      " - 30s - loss: 1.0067 - acc: 0.4982 - val_loss: 1.1454 - val_acc: 0.4005\n",
      "Epoch 15/100\n",
      " - 30s - loss: 0.9998 - acc: 0.5020 - val_loss: 1.1786 - val_acc: 0.3916\n",
      "Epoch 16/100\n",
      " - 30s - loss: 1.0063 - acc: 0.4989 - val_loss: 1.0828 - val_acc: 0.4262\n",
      "Epoch 17/100\n",
      " - 30s - loss: 0.9904 - acc: 0.5071 - val_loss: 1.0630 - val_acc: 0.4318\n",
      "Epoch 18/100\n",
      " - 30s - loss: 0.9855 - acc: 0.5127 - val_loss: 1.0574 - val_acc: 0.4525\n",
      "Epoch 19/100\n",
      " - 30s - loss: 0.9819 - acc: 0.5155 - val_loss: 1.0540 - val_acc: 0.4638\n",
      "Epoch 20/100\n",
      " - 30s - loss: 0.9573 - acc: 0.5338 - val_loss: 1.0678 - val_acc: 0.4533\n",
      "Epoch 21/100\n",
      " - 30s - loss: 0.9398 - acc: 0.5538 - val_loss: 1.0481 - val_acc: 0.4690\n",
      "Epoch 22/100\n",
      " - 30s - loss: 0.9340 - acc: 0.5591 - val_loss: 1.0175 - val_acc: 0.5070\n",
      "Epoch 23/100\n",
      " - 30s - loss: 0.9154 - acc: 0.5726 - val_loss: 1.0330 - val_acc: 0.4768\n",
      "Epoch 24/100\n",
      " - 30s - loss: 0.9146 - acc: 0.5760 - val_loss: 1.0509 - val_acc: 0.4762\n",
      "Epoch 25/100\n",
      " - 30s - loss: 0.8963 - acc: 0.5883 - val_loss: 0.9864 - val_acc: 0.5286\n",
      "Epoch 26/100\n",
      " - 30s - loss: 0.8792 - acc: 0.6002 - val_loss: 0.9487 - val_acc: 0.5682\n",
      "Epoch 27/100\n",
      " - 30s - loss: 0.8650 - acc: 0.6100 - val_loss: 0.9233 - val_acc: 0.5817\n",
      "Epoch 28/100\n",
      " - 30s - loss: 0.8561 - acc: 0.6155 - val_loss: 0.9135 - val_acc: 0.5891\n",
      "Epoch 29/100\n",
      " - 30s - loss: 0.8505 - acc: 0.6218 - val_loss: 0.9155 - val_acc: 0.5897\n",
      "Epoch 30/100\n",
      " - 30s - loss: 0.8414 - acc: 0.6278 - val_loss: 0.9040 - val_acc: 0.5963\n",
      "Epoch 31/100\n",
      " - 30s - loss: 0.8385 - acc: 0.6292 - val_loss: 0.9223 - val_acc: 0.5879\n",
      "Epoch 32/100\n",
      " - 30s - loss: 0.8345 - acc: 0.6316 - val_loss: 0.8932 - val_acc: 0.6034\n",
      "Epoch 33/100\n",
      " - 30s - loss: 0.8283 - acc: 0.6366 - val_loss: 0.9174 - val_acc: 0.5881\n",
      "Epoch 34/100\n",
      " - 30s - loss: 0.8232 - acc: 0.6406 - val_loss: 0.9022 - val_acc: 0.5947\n",
      "Epoch 35/100\n",
      " - 30s - loss: 0.8197 - acc: 0.6423 - val_loss: 0.8898 - val_acc: 0.6038\n",
      "Epoch 36/100\n",
      " - 30s - loss: 0.8143 - acc: 0.6452 - val_loss: 0.8753 - val_acc: 0.6186\n",
      "Epoch 37/100\n",
      " - 30s - loss: 0.8079 - acc: 0.6504 - val_loss: 0.8771 - val_acc: 0.6190\n",
      "Epoch 38/100\n",
      " - 30s - loss: 0.8035 - acc: 0.6529 - val_loss: 0.8624 - val_acc: 0.6247\n",
      "Epoch 39/100\n",
      " - 30s - loss: 0.8008 - acc: 0.6539 - val_loss: 0.8801 - val_acc: 0.6188\n",
      "Epoch 40/100\n",
      " - 30s - loss: 0.7986 - acc: 0.6572 - val_loss: 0.8852 - val_acc: 0.6200\n",
      "Epoch 41/100\n",
      " - 30s - loss: 0.7943 - acc: 0.6588 - val_loss: 0.9050 - val_acc: 0.6049\n",
      "Epoch 42/100\n",
      " - 30s - loss: 0.7917 - acc: 0.6603 - val_loss: 0.8778 - val_acc: 0.6198\n",
      "Epoch 43/100\n",
      " - 31s - loss: 0.7893 - acc: 0.6610 - val_loss: 0.8897 - val_acc: 0.6173\n",
      "Epoch 44/100\n",
      " - 30s - loss: 0.7872 - acc: 0.6633 - val_loss: 0.8598 - val_acc: 0.6307\n",
      "Epoch 45/100\n",
      " - 30s - loss: 0.7829 - acc: 0.6663 - val_loss: 0.8700 - val_acc: 0.6225\n",
      "Epoch 46/100\n",
      " - 30s - loss: 0.7929 - acc: 0.6621 - val_loss: 0.8603 - val_acc: 0.6286\n",
      "Epoch 47/100\n",
      " - 30s - loss: 0.7788 - acc: 0.6676 - val_loss: 0.8488 - val_acc: 0.6378\n",
      "Epoch 48/100\n",
      " - 30s - loss: 0.7759 - acc: 0.6704 - val_loss: 0.8575 - val_acc: 0.6311\n",
      "Epoch 49/100\n",
      " - 31s - loss: 0.7728 - acc: 0.6727 - val_loss: 0.8660 - val_acc: 0.6272\n",
      "Epoch 50/100\n",
      " - 30s - loss: 0.7697 - acc: 0.6749 - val_loss: 0.8569 - val_acc: 0.6321\n",
      "Epoch 51/100\n",
      " - 30s - loss: 0.7687 - acc: 0.6742 - val_loss: 0.8408 - val_acc: 0.6402\n",
      "Epoch 52/100\n",
      " - 30s - loss: 0.7655 - acc: 0.6759 - val_loss: 0.8702 - val_acc: 0.6238\n",
      "Epoch 53/100\n",
      " - 30s - loss: 0.7658 - acc: 0.6758 - val_loss: 0.8607 - val_acc: 0.6295\n",
      "Epoch 54/100\n",
      " - 30s - loss: 0.7679 - acc: 0.6763 - val_loss: 0.8468 - val_acc: 0.6395\n",
      "Epoch 55/100\n",
      " - 30s - loss: 0.7634 - acc: 0.6785 - val_loss: 0.8570 - val_acc: 0.6307\n",
      "Epoch 56/100\n",
      " - 30s - loss: 0.7588 - acc: 0.6794 - val_loss: 0.8476 - val_acc: 0.6441\n",
      "Epoch 57/100\n",
      " - 30s - loss: 0.7584 - acc: 0.6803 - val_loss: 0.8544 - val_acc: 0.6364\n",
      "Epoch 58/100\n",
      " - 30s - loss: 0.7556 - acc: 0.6829 - val_loss: 0.8566 - val_acc: 0.6404\n",
      "Epoch 59/100\n",
      " - 30s - loss: 0.7553 - acc: 0.6827 - val_loss: 0.8599 - val_acc: 0.6414\n",
      "Epoch 60/100\n",
      " - 30s - loss: 0.7498 - acc: 0.6852 - val_loss: 0.8532 - val_acc: 0.6408\n",
      "Epoch 61/100\n",
      " - 30s - loss: 0.7494 - acc: 0.6855 - val_loss: 0.8536 - val_acc: 0.6417\n",
      "Epoch 62/100\n",
      " - 30s - loss: 0.7469 - acc: 0.6875 - val_loss: 0.8645 - val_acc: 0.6343\n",
      "Epoch 63/100\n",
      " - 30s - loss: 0.7442 - acc: 0.6891 - val_loss: 0.8635 - val_acc: 0.6373\n",
      "Epoch 64/100\n",
      " - 30s - loss: 0.7429 - acc: 0.6901 - val_loss: 0.8370 - val_acc: 0.6499\n",
      "Epoch 65/100\n",
      " - 30s - loss: 0.7416 - acc: 0.6906 - val_loss: 0.8608 - val_acc: 0.6343\n",
      "Epoch 66/100\n",
      " - 30s - loss: 0.7390 - acc: 0.6929 - val_loss: 0.8515 - val_acc: 0.6455\n",
      "Epoch 67/100\n",
      " - 30s - loss: 0.7358 - acc: 0.6933 - val_loss: 0.8573 - val_acc: 0.6447\n",
      "Epoch 68/100\n",
      " - 30s - loss: 0.7378 - acc: 0.6938 - val_loss: 0.8611 - val_acc: 0.6364\n",
      "Epoch 69/100\n",
      " - 30s - loss: 0.7354 - acc: 0.6954 - val_loss: 0.8468 - val_acc: 0.6438\n",
      "Epoch 70/100\n",
      " - 30s - loss: 0.7331 - acc: 0.6964 - val_loss: 0.8596 - val_acc: 0.6383\n",
      "Epoch 71/100\n",
      " - 30s - loss: 0.7355 - acc: 0.6954 - val_loss: 0.8686 - val_acc: 0.6308\n",
      "Epoch 72/100\n",
      " - 30s - loss: 0.7349 - acc: 0.6950 - val_loss: 0.8621 - val_acc: 0.6354\n",
      "Epoch 73/100\n",
      " - 30s - loss: 0.7348 - acc: 0.6951 - val_loss: 0.8585 - val_acc: 0.6402\n",
      "Epoch 74/100\n",
      " - 30s - loss: 0.7331 - acc: 0.6971 - val_loss: 0.8715 - val_acc: 0.6338\n",
      "Epoch 75/100\n",
      " - 30s - loss: 0.7303 - acc: 0.6989 - val_loss: 0.8736 - val_acc: 0.6354\n",
      "Epoch 76/100\n",
      " - 30s - loss: 0.7267 - acc: 0.7016 - val_loss: 0.8754 - val_acc: 0.6402\n",
      "Epoch 77/100\n",
      " - 30s - loss: 0.7303 - acc: 0.6978 - val_loss: 0.8514 - val_acc: 0.6465\n",
      "Epoch 78/100\n",
      " - 30s - loss: 0.7240 - acc: 0.7025 - val_loss: 0.8719 - val_acc: 0.6362\n",
      "Epoch 79/100\n",
      " - 30s - loss: 0.7213 - acc: 0.7038 - val_loss: 0.8715 - val_acc: 0.6405\n",
      "Epoch 80/100\n",
      " - 30s - loss: 0.7231 - acc: 0.7014 - val_loss: 0.8844 - val_acc: 0.6345\n",
      "Epoch 81/100\n",
      " - 30s - loss: 0.7208 - acc: 0.7058 - val_loss: 0.8809 - val_acc: 0.6363\n",
      "Epoch 82/100\n",
      " - 30s - loss: 0.7199 - acc: 0.7055 - val_loss: 0.8682 - val_acc: 0.6428\n",
      "Epoch 83/100\n",
      " - 30s - loss: 0.7211 - acc: 0.7038 - val_loss: 0.8707 - val_acc: 0.6421\n",
      "Epoch 84/100\n",
      " - 30s - loss: 0.7157 - acc: 0.7064 - val_loss: 0.8664 - val_acc: 0.6424\n",
      "Epoch 85/100\n",
      " - 30s - loss: 0.7155 - acc: 0.7068 - val_loss: 0.8854 - val_acc: 0.6338\n",
      "Epoch 86/100\n",
      " - 30s - loss: 0.7231 - acc: 0.7035 - val_loss: 0.8913 - val_acc: 0.6327\n",
      "Epoch 87/100\n",
      " - 30s - loss: 0.7163 - acc: 0.7062 - val_loss: 0.8742 - val_acc: 0.6441\n",
      "Epoch 88/100\n",
      " - 30s - loss: 0.7141 - acc: 0.7076 - val_loss: 0.8870 - val_acc: 0.6326\n",
      "Epoch 89/100\n",
      " - 30s - loss: 0.7103 - acc: 0.7106 - val_loss: 0.8855 - val_acc: 0.6364\n",
      "Epoch 90/100\n",
      " - 30s - loss: 0.7136 - acc: 0.7077 - val_loss: 0.8766 - val_acc: 0.6422\n",
      "Epoch 91/100\n",
      " - 30s - loss: 0.7106 - acc: 0.7108 - val_loss: 0.9000 - val_acc: 0.6295\n",
      "Epoch 92/100\n",
      " - 30s - loss: 0.7100 - acc: 0.7114 - val_loss: 0.9022 - val_acc: 0.6336\n",
      "Epoch 93/100\n",
      " - 30s - loss: 0.7135 - acc: 0.7092 - val_loss: 0.8935 - val_acc: 0.6350\n",
      "Epoch 94/100\n",
      " - 30s - loss: 0.7066 - acc: 0.7122 - val_loss: 0.8958 - val_acc: 0.6369\n",
      "Epoch 95/100\n",
      " - 30s - loss: 0.7083 - acc: 0.7133 - val_loss: 0.9097 - val_acc: 0.6288\n"
     ]
    },
    {
     "name": "stdout",
     "output_type": "stream",
     "text": [
      "Epoch 96/100\n",
      " - 30s - loss: 0.7089 - acc: 0.7124 - val_loss: 0.8916 - val_acc: 0.6372\n",
      "Epoch 97/100\n",
      " - 30s - loss: 0.7035 - acc: 0.7153 - val_loss: 0.8943 - val_acc: 0.6382\n",
      "Epoch 98/100\n",
      " - 30s - loss: 0.7052 - acc: 0.7146 - val_loss: 0.8971 - val_acc: 0.6367\n",
      "Epoch 99/100\n",
      " - 30s - loss: 0.7053 - acc: 0.7140 - val_loss: 0.8828 - val_acc: 0.6417\n",
      "Epoch 100/100\n",
      " - 30s - loss: 0.7042 - acc: 0.7143 - val_loss: 0.8965 - val_acc: 0.6421\n",
      "[Model] Training Completed. Model saved as saved_models/08122018-010032-e100.h5\n",
      "Time taken: 0:50:18.673358\n"
     ]
    }
   ],
   "source": [
    "# GenerateBatch2 contains logic to avoid running over stock/day divides\n",
    "history=train_generator(\n",
    "    model=model,\n",
    "    train_gen=training_generator.GenerateBatch2(configs['sequence_length'],\n",
    "                                               configs['batch_size'],\n",
    "                                               configs['nflag']),\n",
    "    val_gen=val_generator.GenerateBatch2(configs['sequence_length'],\n",
    "                                        configs['batch_size'],\n",
    "                                        configs['nflag']),\n",
    "    epochs=configs['epochs'],\n",
    "    batch_size=configs['batch_size'],\n",
    "    steps_per_epoch=steps_per_epoch,\n",
    "    validation_steps=steps_per_epoch_val,\n",
    "    save_dir=configs['save_dir']\n",
    "    )\n",
    "\n",
    "    "
   ]
  },
  {
   "cell_type": "code",
   "execution_count": 15,
   "metadata": {
    "colab": {},
    "colab_type": "code",
    "collapsed": true,
    "id": "sM5Mq6Eiz6gP"
   },
   "outputs": [],
   "source": [
    "#from keras.models import load_model\n",
    "#model = load_model('saved_models/04122018-125307-e20.h5')"
   ]
  },
  {
   "cell_type": "code",
   "execution_count": 16,
   "metadata": {
    "colab": {
     "base_uri": "https://localhost:8080/",
     "height": 355
    },
    "colab_type": "code",
    "id": "DPDi5kAW0OnF",
    "outputId": "d535f7a3-4c92-499b-f77f-1281f5c99fe9"
   },
   "outputs": [
    {
     "data": {
      "text/plain": [
       "Text(0,0.5,'Cost')"
      ]
     },
     "execution_count": 16,
     "metadata": {},
     "output_type": "execute_result"
    },
    {
     "data": {
      "image/png": "[encoded data removed]",
      "text/plain": [
       "<Figure size 1080x360 with 1 Axes>"
      ]
     },
     "metadata": {},
     "output_type": "display_data"
    }
   ],
   "source": [
    "plt.figure(figsize=(15,5))\n",
    "plt.plot(history.history['loss'],'b--',lw=2,label='train_loss')\n",
    "plt.plot(history.history['val_loss'],'g-',lw=2,label='val_loss')\n",
    "plt.legend()\n",
    "plt.ylim([.5,1.3])\n",
    "plt.xlabel('Epochs')\n",
    "plt.ylabel('Cost')"
   ]
  },
  {
   "cell_type": "code",
   "execution_count": 17,
   "metadata": {
    "colab": {},
    "colab_type": "code",
    "collapsed": true,
    "id": "P5CscUax0OnL"
   },
   "outputs": [],
   "source": [
    "# make our predictions - start from beginning\n",
    "train_gen=training_generator.GenerateBatch2(configs['sequence_length'],configs['batch_size'],configs['nflag'])\n",
    "val_gen=val_generator.GenerateBatch2(configs['sequence_length'],configs['batch_size'],configs['nflag'])"
   ]
  },
  {
   "cell_type": "code",
   "execution_count": 18,
   "metadata": {
    "colab": {},
    "colab_type": "code",
    "collapsed": true,
    "id": "dSJU9k7C0OnO"
   },
   "outputs": [],
   "source": [
    "y_train=[]\n",
    "yhat_train=[]\n",
    "y_val=[]\n",
    "yhat_val=[]"
   ]
  },
  {
   "cell_type": "code",
   "execution_count": 19,
   "metadata": {
    "colab": {},
    "colab_type": "code",
    "collapsed": true,
    "id": "Mv-Bygy70OnR"
   },
   "outputs": [],
   "source": [
    "# predict using same sequence lengths and batches as in training\n",
    "for i in range(int(steps_per_epoch)):\n",
    "    dat=next(train_gen)\n",
    "    y_train.append(dat[1])\n",
    "    yhat_train.append(model.predict(dat[0]))\n",
    "for i in range(int(steps_per_epoch_val)):\n",
    "    dat=next(val_gen)\n",
    "    y_val.append(dat[1])\n",
    "    yhat_val.append(model.predict(dat[0]))\n",
    "                                            "
   ]
  },
  {
   "cell_type": "code",
   "execution_count": 20,
   "metadata": {
    "colab": {},
    "colab_type": "code",
    "collapsed": true,
    "id": "jBtQSLKI0OnY"
   },
   "outputs": [],
   "source": [
    "burn_in=0 # drop early predictions \n",
    "y_train=np.concatenate(y_train).reshape(-1,3)[burn_in:]\n",
    "yhat_train=np.concatenate(yhat_train).reshape(-1,3)[burn_in:]\n",
    "y_val=np.concatenate(y_val).reshape(-1,3)[burn_in:]\n",
    "yhat_val=np.concatenate(yhat_val).reshape(-1,3)[burn_in:]\n"
   ]
  },
  {
   "cell_type": "markdown",
   "metadata": {
    "colab_type": "text",
    "id": "OcFMwGttz6gg"
   },
   "source": [
    "### Training and Validation Performance"
   ]
  },
  {
   "cell_type": "code",
   "execution_count": 21,
   "metadata": {
    "colab": {
     "base_uri": "https://localhost:8080/",
     "height": 493
    },
    "colab_type": "code",
    "id": "ESxiLCRb0One",
    "outputId": "b0d613e2-6821-4e73-f1f5-3b3131b40423"
   },
   "outputs": [
    {
     "name": "stdout",
     "output_type": "stream",
     "text": [
      "Training \n",
      "             precision    recall  f1-score   support\n",
      "\n",
      "          0       0.69      0.67      0.68    126155\n",
      "          1       0.73      0.61      0.66     84637\n",
      "          2       0.61      0.72      0.66     98676\n",
      "\n",
      "avg / total       0.68      0.67      0.67    309468\n",
      "\n",
      "cohen kappa score: 0.50\n",
      "Test \n",
      "             precision    recall  f1-score   support\n",
      "\n",
      "          0       0.64      0.61      0.63    113980\n",
      "          1       0.71      0.67      0.69    104364\n",
      "          2       0.57      0.64      0.60     91859\n",
      "\n",
      "avg / total       0.64      0.64      0.64    310203\n",
      "\n",
      "cohen kappa score: 0.46\n"
     ]
    }
   ],
   "source": [
    "# How well have we done on training data\n",
    "print (\"Training \")\n",
    "Y=np.argmax(y_train,axis=1)\n",
    "Yhat=np.argmax(yhat_train,axis=1)\n",
    "c=confusion_matrix(Y,Yhat)\n",
    "c=np.concatenate((c,np.sum(c,axis=1).reshape(-1,1)),axis=1)\n",
    "c=np.concatenate((c,np.sum(c,axis=0).reshape(1,-1)),axis=0)\n",
    "#print(c)\n",
    "print(classification_report(Yhat,Y))\n",
    "print(\"cohen kappa score: %.2f\" %cohen_kappa_score(Yhat,Y))\n",
    "# How well have we done on test data\n",
    "print(\"Test \")\n",
    "Y=np.argmax(y_val,axis=1)\n",
    "Yhat=np.argmax(yhat_val,axis=1)\n",
    "c=confusion_matrix(Y,Yhat)\n",
    "c=np.concatenate((c,np.sum(c,axis=1).reshape(-1,1)),axis=1)\n",
    "c=np.concatenate((c,np.sum(c,axis=0).reshape(1,-1)),axis=0)\n",
    "#print(c)\n",
    "print(classification_report(Yhat,Y))\n",
    "print(\"cohen kappa score: %.2f\" % cohen_kappa_score(Yhat,Y))"
   ]
  },
  {
   "cell_type": "markdown",
   "metadata": {
    "colab_type": "text",
    "id": "NA2Rc6X5z6hE"
   },
   "source": [
    "###  Find highest predictions for each category in each batch. Plot highest values"
   ]
  },
  {
   "cell_type": "code",
   "execution_count": 22,
   "metadata": {
    "colab": {},
    "colab_type": "code",
    "collapsed": true,
    "id": "ygkCC6pJz6hE"
   },
   "outputs": [],
   "source": [
    "dn, sm, up = [],[],[]\n",
    "\n",
    "# find the highest scoring input for each categorical output category in each batch\n",
    "# make our predictions - start from beginning\n",
    "train_gen=training_generator.GenerateBatch2(configs['sequence_length'],configs['batch_size'],configs['nflag'])\n",
    "for i in range(int(steps_per_epoch)):\n",
    "    dat=next(train_gen)[0]\n",
    "    yhat=model.predict(dat)\n",
    "    #\n",
    "    dn.append(dat[np.argmax(yhat[:,2])])\n",
    "    sm.append(dat[np.argmax(yhat[:,1])])\n",
    "    up.append(dat[np.argmax(yhat[:,0])])\n",
    "   "
   ]
  },
  {
   "cell_type": "code",
   "execution_count": 23,
   "metadata": {
    "colab": {},
    "colab_type": "code",
    "collapsed": true,
    "id": "0tY7cyhHcjbN"
   },
   "outputs": [],
   "source": [
    "dnavg=np.average(np.array(dn),axis=0)\n",
    "upavg=np.average(np.array(up),axis=0)"
   ]
  },
  {
   "cell_type": "code",
   "execution_count": 24,
   "metadata": {
    "colab": {
     "base_uri": "https://localhost:8080/",
     "height": 350
    },
    "colab_type": "code",
    "id": "FTkaLRa2kIHh",
    "outputId": "f2399e12-1204-4542-fb65-212e0f56f754"
   },
   "outputs": [
    {
     "data": {
      "image/png": "[encoded data removed]",
      "text/plain": [
       "<Figure size 1440x360 with 4 Axes>"
      ]
     },
     "metadata": {},
     "output_type": "display_data"
    }
   ],
   "source": [
    "t=np.array([0])\n",
    "plt.figure(figsize=(20,5))\n",
    "plt.suptitle(\"Up predictions\")\n",
    "plt.subplot(1,4,1)\n",
    "_=plt.plot(upavg[:,t])\n",
    "plt.title('price:ask')\n",
    "plt.subplot(1,4,2)\n",
    "_=plt.plot(upavg[:,t+2])\n",
    "plt.title('price:bid')\n",
    "plt.subplot(1,4,3)\n",
    "_=plt.plot(upavg[:, t+1])\n",
    "plt.title('vol:ask')\n",
    "plt.subplot(1,4,4)\n",
    "_=plt.plot(upavg[:,t+3])\n",
    "_=plt.title('vol:bid')"
   ]
  },
  {
   "cell_type": "code",
   "execution_count": 25,
   "metadata": {
    "colab": {
     "base_uri": "https://localhost:8080/",
     "height": 350
    },
    "colab_type": "code",
    "id": "bggq3NJTz6hJ",
    "outputId": "7e1775b3-5c8a-4d86-c5ba-50db6b90f379"
   },
   "outputs": [
    {
     "data": {
      "image/png": "[encoded data removed]",
      "text/plain": [
       "<Figure size 1440x360 with 4 Axes>"
      ]
     },
     "metadata": {},
     "output_type": "display_data"
    }
   ],
   "source": [
    "plt.figure(figsize=(20,5))\n",
    "plt.suptitle(\"Down prediction\")\n",
    "plt.subplot(1,4,1)\n",
    "_=plt.plot(dnavg[:,t])\n",
    "plt.title('price:ask')\n",
    "plt.subplot(1,4,2)\n",
    "_=plt.plot(dnavg[:,t+2])\n",
    "plt.title('price:bid')\n",
    "plt.subplot(1,4,3)\n",
    "_=plt.plot(dnavg[:, t+1])\n",
    "plt.title('vol;ask')\n",
    "plt.subplot(1,4,4)\n",
    "_=plt.plot(dnavg[:,t+3])\n",
    "_=plt.title('vol:bid')"
   ]
  },
  {
   "cell_type": "markdown",
   "metadata": {
    "colab_type": "text",
    "id": "hxtxADQVz6hQ"
   },
   "source": [
    "### Perform Gradient Ascent on each category (final softmax layer) to generate input with strongest signal."
   ]
  },
  {
   "cell_type": "code",
   "execution_count": 26,
   "metadata": {
    "colab": {
     "base_uri": "https://localhost:8080/",
     "height": 136
    },
    "colab_type": "code",
    "id": "ZdS0pNjHz6hQ",
    "outputId": "a1e7519e-e2f6-4774-a020-a3021a0fe5d6"
   },
   "outputs": [
    {
     "ename": "NameError",
     "evalue": "name 'layer_dict' is not defined",
     "output_type": "error",
     "traceback": [
      "\u001b[0;31m---------------------------------------------------------------------------\u001b[0m",
      "\u001b[0;31mNameError\u001b[0m                                 Traceback (most recent call last)",
      "\u001b[0;32m<ipython-input-26-6439e1b0a7e9>\u001b[0m in \u001b[0;36m<module>\u001b[0;34m()\u001b[0m\n\u001b[1;32m      2\u001b[0m \u001b[0mylabel\u001b[0m\u001b[0;34m=\u001b[0m\u001b[0;34m[\u001b[0m\u001b[0;34m]\u001b[0m\u001b[0;34m\u001b[0m\u001b[0m\n\u001b[1;32m      3\u001b[0m \u001b[0mlayer_name\u001b[0m\u001b[0;34m=\u001b[0m\u001b[0;34m'dense_1'\u001b[0m \u001b[0;31m#final layer - categorical\u001b[0m\u001b[0;34m\u001b[0m\u001b[0m\n\u001b[0;32m----> 4\u001b[0;31m \u001b[0mlayer_output\u001b[0m\u001b[0;34m=\u001b[0m\u001b[0mlayer_dict\u001b[0m\u001b[0;34m[\u001b[0m\u001b[0mlayer_name\u001b[0m\u001b[0;34m]\u001b[0m\u001b[0;34m.\u001b[0m\u001b[0moutput\u001b[0m\u001b[0;34m\u001b[0m\u001b[0m\n\u001b[0m\u001b[1;32m      5\u001b[0m \u001b[0mprint\u001b[0m\u001b[0;34m(\u001b[0m\u001b[0mlayer_output\u001b[0m\u001b[0;34m.\u001b[0m\u001b[0mshape\u001b[0m\u001b[0;34m)\u001b[0m\u001b[0;34m\u001b[0m\u001b[0m\n\u001b[1;32m      6\u001b[0m \u001b[0;32mfor\u001b[0m \u001b[0mi\u001b[0m \u001b[0;32min\u001b[0m \u001b[0mrange\u001b[0m\u001b[0;34m(\u001b[0m\u001b[0;36m3\u001b[0m\u001b[0;34m)\u001b[0m\u001b[0;34m:\u001b[0m\u001b[0;34m\u001b[0m\u001b[0m\n",
      "\u001b[0;31mNameError\u001b[0m: name 'layer_dict' is not defined"
     ]
    }
   ],
   "source": [
    "#visualize\n",
    "ylabel=[]\n",
    "layer_name='dense_1' #final layer - categorical\n",
    "layer_output=layer_dict[layer_name].output\n",
    "print(layer_output.shape)\n",
    "for i in range(3):\n",
    "    print('processing label %d' % i)\n",
    "    loss=layer_output[:,i] #want to increase value of label i\n",
    "    #loss=K.mean(layer_output[:,filter_index:,:])\n",
    "    grads=K.gradients(loss,input_img)[0]\n",
    "    grads=normalize(grads)\n",
    "    iterate=K.function([input_img],[loss,grads])\n",
    "    step=1\n",
    "    input_img_data=np.random.random((1,configs['sequence_length'],len(colx)))\n",
    "    for j in range(1000):\n",
    "        loss_value,grad_values=iterate([input_img_data])\n",
    "        input_img_data +=grad_values*step\n",
    "        #print('Current loss values:', loss_value)\n",
    "    print(loss_value)\n",
    "    ylabel.append((input_img_data[0],loss_value))"
   ]
  },
  {
   "cell_type": "code",
   "execution_count": null,
   "metadata": {
    "colab": {
     "base_uri": "https://localhost:8080/",
     "height": 335
    },
    "colab_type": "code",
    "collapsed": true,
    "id": "izIAyVb2z6hY",
    "outputId": "6af7d863-6a08-4735-8862-1d2c6c5a204a"
   },
   "outputs": [],
   "source": [
    "\n",
    "y=ylabel[0][0]\n",
    "\n",
    "t=np.array([0])\n",
    "#\n",
    "y=ylabel[0][0]\n",
    "plt.figure(figsize=(15,5))\n",
    "plt.subplot(1,2,1)\n",
    "plt.title('Generated Image for inside bid/ask for UP Prediction')\n",
    "plt.plot(y[:,t])\n",
    "plt.plot(y[:,t+2])\n",
    "#\n",
    "y=ylabel[2][0]\n",
    "plt.subplot(1,2,2)\n",
    "plt.title(' Generated Image for inside bid/ask for DOWN Prediction')\n",
    "plt.plot(y[:,t])\n",
    "plt.plot(y[:,t+2])\n",
    "y=ylabel[0][0]"
   ]
  },
  {
   "cell_type": "code",
   "execution_count": null,
   "metadata": {
    "colab": {},
    "colab_type": "code",
    "collapsed": true,
    "id": "grmT4M1Nz6ha"
   },
   "outputs": [],
   "source": []
  },
  {
   "cell_type": "code",
   "execution_count": null,
   "metadata": {
    "collapsed": true
   },
   "outputs": [],
   "source": []
  }
 ],
 "metadata": {
  "accelerator": "GPU",
  "colab": {
   "collapsed_sections": [],
   "name": "CONV2D - Master.ipynb",
   "provenance": [],
   "version": "0.3.2"
  },
  "kernelspec": {
   "display_name": "Python 3",
   "language": "python",
   "name": "python3"
  },
  "language_info": {
   "codemirror_mode": {
    "name": "ipython",
    "version": 3
   },
   "file_extension": ".py",
   "mimetype": "text/x-python",
   "name": "python",
   "nbconvert_exporter": "python",
   "pygments_lexer": "ipython3",
   "version": "3.6.3"
  }
 },
 "nbformat": 4,
 "nbformat_minor": 1
}
