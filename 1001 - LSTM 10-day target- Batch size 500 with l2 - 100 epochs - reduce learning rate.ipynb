{
 "cells": [
  {
   "cell_type": "code",
   "execution_count": 1,
   "metadata": {
    "colab": {},
    "colab_type": "code",
    "id": "Yp5xcGQP0iow"
   },
   "outputs": [],
   "source": [
    "#from google.colab import drive"
   ]
  },
  {
   "cell_type": "code",
   "execution_count": 2,
   "metadata": {
    "colab": {
     "base_uri": "https://localhost:8080/",
     "height": 54
    },
    "colab_type": "code",
    "id": "j4ddX9Wp0m6h",
    "outputId": "04ab0ff6-7dbf-4fad-e41e-0655a078fa22"
   },
   "outputs": [],
   "source": [
    "#drive.mount('/content/drive')"
   ]
  },
  {
   "cell_type": "code",
   "execution_count": 3,
   "metadata": {
    "colab": {},
    "colab_type": "code",
    "id": "U4OI2JUT01pY"
   },
   "outputs": [],
   "source": [
    "#import os\n",
    "#os.chdir(\"/content/drive\")"
   ]
  },
  {
   "cell_type": "code",
   "execution_count": 4,
   "metadata": {
    "colab": {
     "base_uri": "https://localhost:8080/",
     "height": 34
    },
    "colab_type": "code",
    "id": "iEyds35W07YL",
    "outputId": "7f52a6ce-09b9-4b27-9f0e-734b1f140579"
   },
   "outputs": [],
   "source": [
    "#cd My Drive"
   ]
  },
  {
   "cell_type": "code",
   "execution_count": 5,
   "metadata": {
    "colab": {
     "base_uri": "https://localhost:8080/",
     "height": 34
    },
    "colab_type": "code",
    "id": "z3z6DN5o1C1U",
    "outputId": "0ec8c793-312f-46a0-c191-c88c0b589a9b"
   },
   "outputs": [],
   "source": [
    "#cd CS230-master"
   ]
  },
  {
   "cell_type": "code",
   "execution_count": 6,
   "metadata": {
    "colab": {},
    "colab_type": "code",
    "id": "y0PpAUvr0Omk"
   },
   "outputs": [],
   "source": [
    "import pandas as pd\n",
    "import numpy as np\n",
    "import matplotlib.pylab as plt\n",
    "import time\n",
    "%matplotlib inline\n",
    "# \n",
    "from sklearn.metrics import confusion_matrix, classification_report, cohen_kappa_score"
   ]
  },
  {
   "cell_type": "code",
   "execution_count": 7,
   "metadata": {
    "colab": {
     "base_uri": "https://localhost:8080/",
     "height": 34
    },
    "colab_type": "code",
    "id": "_-lC-kwq0Omo",
    "outputId": "3257b983-4c41-48f0-b0c4-fdca7da177ee"
   },
   "outputs": [
    {
     "name": "stderr",
     "output_type": "stream",
     "text": [
      "Using TensorFlow backend.\n"
     ]
    }
   ],
   "source": [
    "import os; \n",
    "#work-around to allow import from directory on same level\n",
    "os.sys.path.append(os.path.dirname(os.path.abspath('.')))\n",
    "from input.DataLoader import DataLoader\n",
    "from input.GenerateBatch import GenerateBatch\n",
    "from model.Model3 import train_generator"
   ]
  },
  {
   "cell_type": "code",
   "execution_count": 8,
   "metadata": {
    "colab": {},
    "colab_type": "code",
    "id": "CDkNW07Q0Omu"
   },
   "outputs": [],
   "source": [
    "from sklearn.preprocessing import MinMaxScaler\n",
    "from keras import regularizers\n",
    "from keras.models import Sequential, load_model\n",
    "from keras.layers import LSTM, Dense,Dropout,Activation, Lambda\n",
    "from keras.layers import Conv1D, Conv2D, MaxPooling1D, Flatten\n",
    "from keras.layers import  MaxPooling1D, MaxPooling2D,Reshape, BatchNormalization\n",
    "from keras.utils import to_categorical\n",
    "from keras.metrics import categorical_crossentropy\n",
    "from scipy.stats import linregress\n",
    "from sklearn.utils import shuffle\n",
    "from sklearn.metrics import accuracy_score\n",
    "from sklearn.metrics import confusion_matrix, classification_report, cohen_kappa_score\n",
    "from keras.backend import transpose, permute_dimensions,squeeze\n",
    "from keras.optimizers import Adam"
   ]
  },
  {
   "cell_type": "code",
   "execution_count": 9,
   "metadata": {
    "colab": {
     "base_uri": "https://localhost:8080/",
     "height": 51
    },
    "colab_type": "code",
    "id": "SnCCfwPL0Omv",
    "outputId": "8fba1a7f-a9ff-4e6f-e91e-c72c0162e86d"
   },
   "outputs": [
    {
     "name": "stdout",
     "output_type": "stream",
     "text": [
      "trainday [0, 1, 2, 3, 4, 5] valdays [6, 7] colx range(0, 40) coly 148\n",
      "{'batch_size': 500, 'sequence_length': 20, 'epochs': 100, 'learning_rate': 0.0005, 'learning_rate_decay': 0, 'opt': <keras.optimizers.Adam object at 0x7f9209d431d0>, 'save_dir': 'saved_models', 'nflag': False}\n"
     ]
    }
   ],
   "source": [
    "# PARAMETERS AND COMMENTs\n",
    "#\n",
    "# LSTM with 10bar target and 0-5.6-7 training/val \n",
    "# standardize window = false\n",
    "# Dropout back to 50; epochs back to 60\n",
    "# Try l2 reg on dense layer with small batch size - 50\n",
    "# reduce learning rate to 0.0005\n",
    "configs={}\n",
    "configs['batch_size']=500\n",
    "\n",
    "configs['sequence_length']=20\n",
    "configs['epochs']=100\n",
    "configs['learning_rate']=.0005\n",
    "configs['learning_rate_decay']=0\n",
    "configs['opt']=Adam(lr=configs['learning_rate'],\n",
    "                   decay=configs['learning_rate_decay'])\n",
    "configs['save_dir']='saved_models'\n",
    "configs['nflag']=False #standardize each window\n",
    "\n",
    "\n",
    "\n",
    "traindays=[0,1,2,3,4,5] #training and val days to look at in dataset\n",
    "valdays=[6,7]\n",
    "colx=range(40)# columns to look at in dataset - 0-40 are LOB\n",
    "#colx=np.concatenate([np.arange(20),86+np.arange(20)])\n",
    "coly=148 # target 144-148 are 1,2,3,5,10\n",
    "generate_files=True\n",
    "print('trainday',traindays,'valdays',valdays,'colx',colx,'coly',coly)\n",
    "print(configs)"
   ]
  },
  {
   "cell_type": "markdown",
   "metadata": {
    "colab_type": "text",
    "id": "mNamKqckz6f7"
   },
   "source": [
    "### Generate data from zip files or retrieve from pkl files in directory"
   ]
  },
  {
   "cell_type": "code",
   "execution_count": 10,
   "metadata": {
    "colab": {},
    "colab_type": "code",
    "id": "IGGsKI3ez6gA"
   },
   "outputs": [],
   "source": [
    "if generate_files==True:\n",
    "  path='data/'\n",
    "  d=DataLoader(path)\n",
    "  traindf=d.get_days(traindays)\n",
    "  trainoffset=d.get_stock_offset(traindays)\n",
    "  valdf=d.get_days(valdays)\n",
    "  valoffset=d.get_stock_offset(valdays)\n",
    "\n",
    "  traindf.to_pickle(\"traindf.pkl\")\n",
    "  valdf.to_pickle(\"valdf.pkl\")\n",
    "  np.save(\"trainoffset\",trainoffset)\n",
    "  np.save(\"valoffset\",valoffset)\n",
    "\n",
    "else:\n",
    "  traindf=pd.read_pickle('traindf.pkl')\n",
    "  valdf=pd.read_pickle('valdf.pkl')\n",
    "  trainoffset=np.load(\"trainoffset.npy\")\n",
    "  valoffset=np.load(\"valoffset.npy\")\n",
    "\n",
    "# Select X and Y training and dev data. Y is categorical\n",
    "trainx=traindf.iloc[:,colx].values\n",
    "trainy=to_categorical(traindf.iloc[:,coly].values-1)\n",
    "valx=valdf.iloc[:,colx].values\n",
    "valy=to_categorical(valdf.iloc[:,coly].values-1)\n",
    "\n"
   ]
  },
  {
   "cell_type": "markdown",
   "metadata": {
    "colab_type": "text",
    "id": "rR0QQ6eBz6gC"
   },
   "source": [
    "### Build and compile model"
   ]
  },
  {
   "cell_type": "code",
   "execution_count": 11,
   "metadata": {
    "colab": {
     "base_uri": "https://localhost:8080/",
     "height": 476
    },
    "colab_type": "code",
    "id": "uZY-jfT70Om6",
    "outputId": "4ecc4ab7-ea7a-4975-c5ec-3b731ace975b"
   },
   "outputs": [
    {
     "name": "stdout",
     "output_type": "stream",
     "text": [
      "_________________________________________________________________\n",
      "Layer (type)                 Output Shape              Param #   \n",
      "=================================================================\n",
      "lstm_1 (LSTM)                (None, 100)               56400     \n",
      "_________________________________________________________________\n",
      "dropout_1 (Dropout)          (None, 100)               0         \n",
      "_________________________________________________________________\n",
      "dense_1 (Dense)              (None, 3)                 303       \n",
      "=================================================================\n",
      "Total params: 56,703\n",
      "Trainable params: 56,703\n",
      "Non-trainable params: 0\n",
      "_________________________________________________________________\n"
     ]
    }
   ],
   "source": [
    "model = Sequential()\n",
    "model.add(LSTM(100,input_shape=(configs['sequence_length'],len(colx)),kernel_regularizer=regularizers.l2(0.01), return_sequences=False))\n",
    "model.add(Dropout(0.50))\n",
    "#self.model.add(Dense(100,kernel_regularizer=regularizers.l2(0.01),activation='relu'))\n",
    "#self.model.add(Dropout(0.20))\n",
    "model.add(Dense(3,activation=\"softmax\"))\n",
    "opt=Adam(lr=configs['learning_rate'],decay=configs['learning_rate_decay'])\n",
    "model.compile(loss=\"categorical_crossentropy\", optimizer=configs['opt'],metrics=['accuracy'])\n",
    "model.summary()"
   ]
  },
  {
   "cell_type": "markdown",
   "metadata": {
    "colab_type": "text",
    "id": "VtnITiYbz6gF"
   },
   "source": [
    "### Model Fitting"
   ]
  },
  {
   "cell_type": "code",
   "execution_count": 12,
   "metadata": {
    "colab": {},
    "colab_type": "code",
    "id": "pyyecGn40Om-"
   },
   "outputs": [],
   "source": [
    "training_generator=GenerateBatch(trainx,trainy,trainoffset)\n",
    "val_generator=GenerateBatch(valx,valy,valoffset)"
   ]
  },
  {
   "cell_type": "code",
   "execution_count": 13,
   "metadata": {
    "colab": {},
    "colab_type": "code",
    "id": "w0b2kB8y0OnA"
   },
   "outputs": [],
   "source": [
    "# out-of memory generative training\n",
    "steps_per_epoch=training_generator.epoch_size(configs['sequence_length'],\n",
    "                                              configs['batch_size'])\n",
    "steps_per_epoch_val=training_generator.epoch_size(configs['sequence_length'],\n",
    "                                              configs['batch_size'])"
   ]
  },
  {
   "cell_type": "code",
   "execution_count": 14,
   "metadata": {
    "colab": {
     "base_uri": "https://localhost:8080/",
     "height": 2125
    },
    "colab_type": "code",
    "id": "blrriHpG0OnC",
    "outputId": "8f379ed0-eb89-4f0c-e4e7-021cf7811be1"
   },
   "outputs": [
    {
     "name": "stdout",
     "output_type": "stream",
     "text": [
      "[Model] Training Started\n",
      "[Model] 100 epochs, 500 batch size, 448.0 batches per epoch\n",
      "Epoch 1/100\n",
      " - 25s - loss: 1.3474 - acc: 0.4252 - val_loss: 1.1766 - val_acc: 0.4263\n",
      "Epoch 2/100\n",
      " - 23s - loss: 1.1095 - acc: 0.4639 - val_loss: 1.1245 - val_acc: 0.4311\n",
      "Epoch 3/100\n",
      " - 23s - loss: 1.0629 - acc: 0.4776 - val_loss: 1.1103 - val_acc: 0.4202\n",
      "Epoch 4/100\n",
      " - 23s - loss: 1.0425 - acc: 0.4830 - val_loss: 1.0737 - val_acc: 0.4502\n",
      "Epoch 5/100\n",
      " - 23s - loss: 1.0295 - acc: 0.4889 - val_loss: 1.0831 - val_acc: 0.4442\n",
      "Epoch 6/100\n",
      " - 23s - loss: 1.0162 - acc: 0.4971 - val_loss: 1.0644 - val_acc: 0.4512\n",
      "Epoch 7/100\n",
      " - 23s - loss: 1.0044 - acc: 0.5056 - val_loss: 1.0466 - val_acc: 0.4751\n",
      "Epoch 8/100\n",
      " - 23s - loss: 0.9939 - acc: 0.5141 - val_loss: 1.0542 - val_acc: 0.4672\n",
      "Epoch 9/100\n",
      " - 23s - loss: 0.9828 - acc: 0.5235 - val_loss: 1.0401 - val_acc: 0.4704\n",
      "Epoch 10/100\n",
      " - 23s - loss: 0.9756 - acc: 0.5286 - val_loss: 1.0272 - val_acc: 0.4760\n",
      "Epoch 11/100\n",
      " - 23s - loss: 0.9684 - acc: 0.5300 - val_loss: 1.0397 - val_acc: 0.4664\n",
      "Epoch 12/100\n",
      " - 23s - loss: 0.9661 - acc: 0.5343 - val_loss: 1.0448 - val_acc: 0.4484\n",
      "Epoch 13/100\n",
      " - 23s - loss: 0.9624 - acc: 0.5328 - val_loss: 1.0708 - val_acc: 0.4507\n",
      "Epoch 14/100\n",
      " - 23s - loss: 0.9593 - acc: 0.5346 - val_loss: 1.0778 - val_acc: 0.4514\n",
      "Epoch 15/100\n",
      " - 23s - loss: 0.9533 - acc: 0.5397 - val_loss: 1.0350 - val_acc: 0.4729\n",
      "Epoch 16/100\n",
      " - 23s - loss: 0.9470 - acc: 0.5456 - val_loss: 1.0580 - val_acc: 0.4548\n",
      "Epoch 17/100\n",
      " - 23s - loss: 0.9413 - acc: 0.5483 - val_loss: 1.0491 - val_acc: 0.4729\n",
      "Epoch 18/100\n",
      " - 23s - loss: 0.9372 - acc: 0.5539 - val_loss: 1.0530 - val_acc: 0.4624\n",
      "Epoch 19/100\n",
      " - 23s - loss: 0.9346 - acc: 0.5546 - val_loss: 1.0447 - val_acc: 0.4773\n",
      "Epoch 20/100\n",
      " - 23s - loss: 0.9357 - acc: 0.5532 - val_loss: 1.0531 - val_acc: 0.4713\n",
      "Epoch 21/100\n",
      " - 23s - loss: 0.9286 - acc: 0.5611 - val_loss: 1.0552 - val_acc: 0.4754\n",
      "Epoch 22/100\n",
      " - 23s - loss: 0.9231 - acc: 0.5651 - val_loss: 1.0314 - val_acc: 0.4919\n",
      "Epoch 23/100\n",
      " - 23s - loss: 0.9180 - acc: 0.5685 - val_loss: 1.0437 - val_acc: 0.4858\n",
      "Epoch 24/100\n",
      " - 23s - loss: 0.9154 - acc: 0.5748 - val_loss: 1.0729 - val_acc: 0.4678\n",
      "Epoch 25/100\n",
      " - 23s - loss: 0.9075 - acc: 0.5785 - val_loss: 1.0143 - val_acc: 0.4958\n",
      "Epoch 26/100\n",
      " - 23s - loss: 0.9026 - acc: 0.5828 - val_loss: 1.0641 - val_acc: 0.4767\n",
      "Epoch 27/100\n",
      " - 23s - loss: 0.8989 - acc: 0.5849 - val_loss: 1.0411 - val_acc: 0.4930\n",
      "Epoch 28/100\n",
      " - 23s - loss: 0.8951 - acc: 0.5880 - val_loss: 1.0194 - val_acc: 0.5052\n",
      "Epoch 29/100\n",
      " - 23s - loss: 0.8916 - acc: 0.5917 - val_loss: 1.0247 - val_acc: 0.4980\n",
      "Epoch 30/100\n",
      " - 23s - loss: 0.8851 - acc: 0.5972 - val_loss: 1.0008 - val_acc: 0.5213\n",
      "Epoch 31/100\n",
      " - 23s - loss: 0.8843 - acc: 0.5948 - val_loss: 1.0110 - val_acc: 0.5192\n",
      "Epoch 32/100\n",
      " - 23s - loss: 0.8778 - acc: 0.6008 - val_loss: 0.9991 - val_acc: 0.5205\n",
      "Epoch 33/100\n",
      " - 23s - loss: 0.8775 - acc: 0.6017 - val_loss: 1.0026 - val_acc: 0.5173\n",
      "Epoch 34/100\n",
      " - 23s - loss: 0.8685 - acc: 0.6068 - val_loss: 0.9978 - val_acc: 0.5278\n",
      "Epoch 35/100\n",
      " - 23s - loss: 0.8646 - acc: 0.6095 - val_loss: 0.9902 - val_acc: 0.5300\n",
      "Epoch 36/100\n",
      " - 23s - loss: 0.8670 - acc: 0.6073 - val_loss: 0.9963 - val_acc: 0.5254\n",
      "Epoch 37/100\n",
      " - 23s - loss: 0.8612 - acc: 0.6119 - val_loss: 0.9832 - val_acc: 0.5435\n",
      "Epoch 38/100\n",
      " - 23s - loss: 0.8622 - acc: 0.6117 - val_loss: 1.0114 - val_acc: 0.5175\n",
      "Epoch 39/100\n",
      " - 23s - loss: 0.8553 - acc: 0.6173 - val_loss: 0.9771 - val_acc: 0.5492\n",
      "Epoch 40/100\n",
      " - 23s - loss: 0.8537 - acc: 0.6196 - val_loss: 1.0034 - val_acc: 0.5410\n",
      "Epoch 41/100\n",
      " - 23s - loss: 0.8499 - acc: 0.6203 - val_loss: 1.0080 - val_acc: 0.5337\n",
      "Epoch 42/100\n",
      " - 23s - loss: 0.8455 - acc: 0.6246 - val_loss: 0.9765 - val_acc: 0.5501\n",
      "Epoch 43/100\n",
      " - 23s - loss: 0.8390 - acc: 0.6286 - val_loss: 0.9977 - val_acc: 0.5413\n",
      "Epoch 44/100\n",
      " - 23s - loss: 0.8381 - acc: 0.6283 - val_loss: 0.9923 - val_acc: 0.5390\n",
      "Epoch 45/100\n",
      " - 23s - loss: 0.8423 - acc: 0.6275 - val_loss: 0.9743 - val_acc: 0.5577\n",
      "Epoch 46/100\n",
      " - 23s - loss: 0.8334 - acc: 0.6348 - val_loss: 0.9810 - val_acc: 0.5618\n",
      "Epoch 47/100\n",
      " - 23s - loss: 0.8310 - acc: 0.6340 - val_loss: 0.9754 - val_acc: 0.5632\n",
      "Epoch 48/100\n",
      " - 23s - loss: 0.8256 - acc: 0.6398 - val_loss: 0.9692 - val_acc: 0.5648\n",
      "Epoch 49/100\n",
      " - 23s - loss: 0.8230 - acc: 0.6392 - val_loss: 1.0039 - val_acc: 0.5487\n",
      "Epoch 50/100\n",
      " - 23s - loss: 0.8204 - acc: 0.6445 - val_loss: 0.9723 - val_acc: 0.5641\n",
      "Epoch 51/100\n",
      " - 23s - loss: 0.8138 - acc: 0.6467 - val_loss: 0.9791 - val_acc: 0.5615\n",
      "Epoch 52/100\n",
      " - 23s - loss: 0.8127 - acc: 0.6481 - val_loss: 0.9952 - val_acc: 0.5599\n",
      "Epoch 53/100\n",
      " - 23s - loss: 0.8116 - acc: 0.6498 - val_loss: 0.9754 - val_acc: 0.5647\n",
      "Epoch 54/100\n",
      " - 23s - loss: 0.8049 - acc: 0.6534 - val_loss: 0.9782 - val_acc: 0.5689\n",
      "Epoch 55/100\n",
      " - 23s - loss: 0.8093 - acc: 0.6485 - val_loss: 1.0199 - val_acc: 0.5418\n",
      "Epoch 56/100\n",
      " - 23s - loss: 0.8116 - acc: 0.6499 - val_loss: 0.9759 - val_acc: 0.5653\n",
      "Epoch 57/100\n",
      " - 23s - loss: 0.8009 - acc: 0.6544 - val_loss: 1.0114 - val_acc: 0.5497\n",
      "Epoch 58/100\n",
      " - 23s - loss: 0.7964 - acc: 0.6582 - val_loss: 0.9926 - val_acc: 0.5633\n",
      "Epoch 59/100\n",
      " - 23s - loss: 0.7973 - acc: 0.6591 - val_loss: 0.9746 - val_acc: 0.5706\n",
      "Epoch 60/100\n",
      " - 23s - loss: 0.7931 - acc: 0.6608 - val_loss: 0.9870 - val_acc: 0.5626\n",
      "Epoch 61/100\n",
      " - 23s - loss: 0.7943 - acc: 0.6621 - val_loss: 1.0177 - val_acc: 0.5353\n",
      "Epoch 62/100\n",
      " - 23s - loss: 0.7929 - acc: 0.6620 - val_loss: 1.0008 - val_acc: 0.5633\n",
      "Epoch 63/100\n",
      " - 23s - loss: 0.7880 - acc: 0.6653 - val_loss: 0.9976 - val_acc: 0.5639\n",
      "Epoch 64/100\n",
      " - 23s - loss: 0.7825 - acc: 0.6685 - val_loss: 0.9991 - val_acc: 0.5601\n",
      "Epoch 65/100\n",
      " - 23s - loss: 0.7793 - acc: 0.6718 - val_loss: 0.9844 - val_acc: 0.5720\n",
      "Epoch 66/100\n",
      " - 23s - loss: 0.7818 - acc: 0.6696 - val_loss: 1.0057 - val_acc: 0.5613\n",
      "Epoch 67/100\n",
      " - 23s - loss: 0.7815 - acc: 0.6708 - val_loss: 0.9958 - val_acc: 0.5567\n",
      "Epoch 68/100\n",
      " - 23s - loss: 0.7816 - acc: 0.6716 - val_loss: 0.9743 - val_acc: 0.5744\n",
      "Epoch 69/100\n",
      " - 23s - loss: 0.7744 - acc: 0.6749 - val_loss: 0.9966 - val_acc: 0.5657\n",
      "Epoch 70/100\n",
      " - 23s - loss: 0.7742 - acc: 0.6741 - val_loss: 0.9751 - val_acc: 0.5784\n",
      "Epoch 71/100\n",
      " - 23s - loss: 0.7714 - acc: 0.6768 - val_loss: 0.9826 - val_acc: 0.5774\n",
      "Epoch 72/100\n",
      " - 23s - loss: 0.7713 - acc: 0.6778 - val_loss: 0.9880 - val_acc: 0.5780\n",
      "Epoch 73/100\n",
      " - 23s - loss: 0.7709 - acc: 0.6760 - val_loss: 0.9543 - val_acc: 0.5948\n",
      "Epoch 74/100\n",
      " - 23s - loss: 0.7647 - acc: 0.6820 - val_loss: 0.9937 - val_acc: 0.5775\n",
      "Epoch 75/100\n",
      " - 23s - loss: 0.7636 - acc: 0.6822 - val_loss: 0.9836 - val_acc: 0.5827\n",
      "Epoch 76/100\n",
      " - 23s - loss: 0.7601 - acc: 0.6839 - val_loss: 0.9514 - val_acc: 0.5969\n",
      "Epoch 77/100\n",
      " - 23s - loss: 0.7623 - acc: 0.6830 - val_loss: 0.9841 - val_acc: 0.5856\n",
      "Epoch 78/100\n",
      " - 23s - loss: 0.7588 - acc: 0.6836 - val_loss: 0.9885 - val_acc: 0.5804\n",
      "Epoch 79/100\n",
      " - 23s - loss: 0.7589 - acc: 0.6852 - val_loss: 0.9630 - val_acc: 0.5970\n",
      "Epoch 80/100\n",
      " - 23s - loss: 0.7598 - acc: 0.6844 - val_loss: 0.9871 - val_acc: 0.5791\n",
      "Epoch 81/100\n",
      " - 23s - loss: 0.7621 - acc: 0.6824 - val_loss: 0.9986 - val_acc: 0.5775\n",
      "Epoch 82/100\n",
      " - 23s - loss: 0.7584 - acc: 0.6839 - val_loss: 0.9681 - val_acc: 0.5896\n",
      "Epoch 83/100\n",
      " - 23s - loss: 0.7497 - acc: 0.6904 - val_loss: 0.9776 - val_acc: 0.5899\n",
      "Epoch 84/100\n",
      " - 23s - loss: 0.7477 - acc: 0.6916 - val_loss: 0.9874 - val_acc: 0.5814\n",
      "Epoch 85/100\n",
      " - 23s - loss: 0.7429 - acc: 0.6932 - val_loss: 0.9698 - val_acc: 0.5904\n",
      "Epoch 86/100\n",
      " - 23s - loss: 0.7573 - acc: 0.6864 - val_loss: 0.9874 - val_acc: 0.5908\n",
      "Epoch 87/100\n",
      " - 23s - loss: 0.7414 - acc: 0.6954 - val_loss: 0.9850 - val_acc: 0.5846\n",
      "Epoch 88/100\n",
      " - 23s - loss: 0.7381 - acc: 0.6963 - val_loss: 0.9778 - val_acc: 0.5909\n",
      "Epoch 89/100\n",
      " - 23s - loss: 0.7338 - acc: 0.6984 - val_loss: 0.9980 - val_acc: 0.5859\n",
      "Epoch 90/100\n",
      " - 23s - loss: 0.7336 - acc: 0.6991 - val_loss: 0.9847 - val_acc: 0.5896\n",
      "Epoch 91/100\n",
      " - 23s - loss: 0.7337 - acc: 0.6981 - val_loss: 0.9853 - val_acc: 0.5914\n",
      "Epoch 92/100\n",
      " - 23s - loss: 0.7335 - acc: 0.6998 - val_loss: 0.9810 - val_acc: 0.5890\n",
      "Epoch 93/100\n",
      " - 23s - loss: 0.7351 - acc: 0.6961 - val_loss: 0.9868 - val_acc: 0.5874\n",
      "Epoch 94/100\n",
      " - 23s - loss: 0.7337 - acc: 0.6985 - val_loss: 0.9866 - val_acc: 0.5937\n",
      "Epoch 95/100\n",
      " - 23s - loss: 0.7349 - acc: 0.6980 - val_loss: 1.0020 - val_acc: 0.5827\n"
     ]
    },
    {
     "name": "stdout",
     "output_type": "stream",
     "text": [
      "Epoch 96/100\n",
      " - 23s - loss: 0.7344 - acc: 0.6973 - val_loss: 0.9669 - val_acc: 0.5982\n",
      "Epoch 97/100\n",
      " - 23s - loss: 0.7314 - acc: 0.7005 - val_loss: 0.9742 - val_acc: 0.5954\n",
      "Epoch 98/100\n",
      " - 24s - loss: 0.7323 - acc: 0.6977 - val_loss: 1.0057 - val_acc: 0.5855\n",
      "Epoch 99/100\n",
      " - 25s - loss: 0.7259 - acc: 0.7018 - val_loss: 0.9830 - val_acc: 0.5955\n",
      "Epoch 100/100\n",
      " - 25s - loss: 0.7212 - acc: 0.7067 - val_loss: 1.0040 - val_acc: 0.5869\n",
      "[Model] Training Completed. Model saved as saved_models/09122018-174251-e100.h5\n",
      "Time taken: 0:38:20.921277\n"
     ]
    }
   ],
   "source": [
    "# GenerateBatch2 contains logic to avoid running over stock/day divides\n",
    "history=train_generator(\n",
    "    model=model,\n",
    "    train_gen=training_generator.GenerateBatch2(configs['sequence_length'],\n",
    "                                               configs['batch_size'],\n",
    "                                               configs['nflag']),\n",
    "    val_gen=val_generator.GenerateBatch2(configs['sequence_length'],\n",
    "                                        configs['batch_size'],\n",
    "                                        configs['nflag']),\n",
    "    epochs=configs['epochs'],\n",
    "    batch_size=configs['batch_size'],\n",
    "    steps_per_epoch=steps_per_epoch,\n",
    "    validation_steps=steps_per_epoch_val,\n",
    "    save_dir=configs['save_dir']\n",
    "    )\n",
    "\n",
    "    "
   ]
  },
  {
   "cell_type": "code",
   "execution_count": 15,
   "metadata": {
    "colab": {},
    "colab_type": "code",
    "id": "sM5Mq6Eiz6gP"
   },
   "outputs": [],
   "source": [
    "#from keras.models import load_model\n",
    "#model = load_model('saved_models/04122018-125307-e20.h5')"
   ]
  },
  {
   "cell_type": "code",
   "execution_count": 16,
   "metadata": {
    "colab": {
     "base_uri": "https://localhost:8080/",
     "height": 355
    },
    "colab_type": "code",
    "id": "DPDi5kAW0OnF",
    "outputId": "d535f7a3-4c92-499b-f77f-1281f5c99fe9"
   },
   "outputs": [
    {
     "data": {
      "text/plain": [
       "Text(0,0.5,'Cost')"
      ]
     },
     "execution_count": 16,
     "metadata": {},
     "output_type": "execute_result"
    },
    {
     "data": {
      "image/png": "[encoded data removed]",
      "text/plain": [
       "<Figure size 1080x720 with 2 Axes>"
      ]
     },
     "metadata": {},
     "output_type": "display_data"
    }
   ],
   "source": [
    "plt.figure(figsize=(15,10))\n",
    "plt.subplot(2,1,1)\n",
    "plt.plot(history.history['loss'],'b--',lw=2,label='train_loss')\n",
    "plt.plot(history.history['val_loss'],'g-',lw=2,label='val_loss')\n",
    "plt.legend()\n",
    "plt.ylim([.5,1.3])\n",
    "plt.xlabel('Epochs')\n",
    "plt.ylabel('Cost')\n",
    "plt.subplot(2,1,2)\n",
    "plt.plot(history.history['acc'],'b--',lw=2,label='train_acc')\n",
    "plt.plot(history.history['val_acc'],'g-',lw=2,label='val_acc')\n",
    "plt.legend()\n",
    "plt.ylim([.25,1.0])\n",
    "plt.xlabel('Epochs')\n",
    "plt.ylabel('Cost')"
   ]
  },
  {
   "cell_type": "code",
   "execution_count": 17,
   "metadata": {
    "colab": {},
    "colab_type": "code",
    "id": "P5CscUax0OnL"
   },
   "outputs": [],
   "source": [
    "# make our predictions - start from beginning\n",
    "train_gen=training_generator.GenerateBatch2(configs['sequence_length'],configs['batch_size'],configs['nflag'])\n",
    "val_gen=val_generator.GenerateBatch2(configs['sequence_length'],configs['batch_size'],configs['nflag'])"
   ]
  },
  {
   "cell_type": "code",
   "execution_count": 18,
   "metadata": {
    "colab": {},
    "colab_type": "code",
    "id": "dSJU9k7C0OnO"
   },
   "outputs": [],
   "source": [
    "y_train=[]\n",
    "yhat_train=[]\n",
    "y_val=[]\n",
    "yhat_val=[]"
   ]
  },
  {
   "cell_type": "code",
   "execution_count": 19,
   "metadata": {
    "colab": {},
    "colab_type": "code",
    "id": "Mv-Bygy70OnR"
   },
   "outputs": [],
   "source": [
    "# predict using same sequence lengths and batches as in training\n",
    "for i in range(int(steps_per_epoch)):\n",
    "    dat=next(train_gen)\n",
    "    y_train.append(dat[1])\n",
    "    yhat_train.append(model.predict(dat[0]))\n",
    "for i in range(int(steps_per_epoch_val)):\n",
    "    dat=next(val_gen)\n",
    "    y_val.append(dat[1])\n",
    "    yhat_val.append(model.predict(dat[0]))\n",
    "                                            "
   ]
  },
  {
   "cell_type": "code",
   "execution_count": 20,
   "metadata": {
    "colab": {},
    "colab_type": "code",
    "id": "jBtQSLKI0OnY"
   },
   "outputs": [],
   "source": [
    "burn_in=0 # drop early predictions \n",
    "y_train=np.concatenate(y_train).reshape(-1,3)[burn_in:]\n",
    "yhat_train=np.concatenate(yhat_train).reshape(-1,3)[burn_in:]\n",
    "y_val=np.concatenate(y_val).reshape(-1,3)[burn_in:]\n",
    "yhat_val=np.concatenate(yhat_val).reshape(-1,3)[burn_in:]\n"
   ]
  },
  {
   "cell_type": "markdown",
   "metadata": {
    "colab_type": "text",
    "id": "OcFMwGttz6gg"
   },
   "source": [
    "### Training and Validation Performance"
   ]
  },
  {
   "cell_type": "code",
   "execution_count": 21,
   "metadata": {
    "colab": {
     "base_uri": "https://localhost:8080/",
     "height": 493
    },
    "colab_type": "code",
    "id": "ESxiLCRb0One",
    "outputId": "b0d613e2-6821-4e73-f1f5-3b3131b40423"
   },
   "outputs": [
    {
     "name": "stdout",
     "output_type": "stream",
     "text": [
      "Training \n",
      "             precision    recall  f1-score   support\n",
      "\n",
      "          0       0.69      0.69      0.69     87981\n",
      "          1       0.58      0.67      0.63     37035\n",
      "          2       0.71      0.67      0.69     91818\n",
      "\n",
      "avg / total       0.68      0.68      0.68    216834\n",
      "\n",
      "cohen kappa score: 0.49\n",
      "Test \n",
      "             precision    recall  f1-score   support\n",
      "\n",
      "          0       0.61      0.60      0.61     82538\n",
      "          1       0.47      0.66      0.55     43512\n",
      "          2       0.66      0.55      0.60     91097\n",
      "\n",
      "avg / total       0.60      0.59      0.59    217147\n",
      "\n",
      "cohen kappa score: 0.38\n"
     ]
    }
   ],
   "source": [
    "# How well have we done on training data\n",
    "print (\"Training \")\n",
    "Y=np.argmax(y_train,axis=1)\n",
    "Yhat=np.argmax(yhat_train,axis=1)\n",
    "c=confusion_matrix(Y,Yhat)\n",
    "c=np.concatenate((c,np.sum(c,axis=1).reshape(-1,1)),axis=1)\n",
    "c=np.concatenate((c,np.sum(c,axis=0).reshape(1,-1)),axis=0)\n",
    "#print(c)\n",
    "print(classification_report(Yhat,Y))\n",
    "print(\"cohen kappa score: %.2f\" %cohen_kappa_score(Yhat,Y))\n",
    "# How well have we done on test data\n",
    "print(\"Test \")\n",
    "Y=np.argmax(y_val,axis=1)\n",
    "Yhat=np.argmax(yhat_val,axis=1)\n",
    "c=confusion_matrix(Y,Yhat)\n",
    "c=np.concatenate((c,np.sum(c,axis=1).reshape(-1,1)),axis=1)\n",
    "c=np.concatenate((c,np.sum(c,axis=0).reshape(1,-1)),axis=0)\n",
    "#print(c)\n",
    "print(classification_report(Yhat,Y))\n",
    "print(\"cohen kappa score: %.2f\" % cohen_kappa_score(Yhat,Y))"
   ]
  },
  {
   "cell_type": "markdown",
   "metadata": {
    "colab_type": "text",
    "id": "NA2Rc6X5z6hE"
   },
   "source": [
    "###  Find highest predictions for each category in each batch. Plot highest values"
   ]
  },
  {
   "cell_type": "code",
   "execution_count": 22,
   "metadata": {
    "colab": {},
    "colab_type": "code",
    "id": "ygkCC6pJz6hE"
   },
   "outputs": [],
   "source": [
    "dn, sm, up = [],[],[]\n",
    "\n",
    "# find the highest scoring input for each categorical output category in each batch\n",
    "# make our predictions - start from beginning\n",
    "train_gen=training_generator.GenerateBatch2(configs['sequence_length'],configs['batch_size'],configs['nflag'])\n",
    "for i in range(int(steps_per_epoch)):\n",
    "    dat=next(train_gen)[0]\n",
    "    yhat=model.predict(dat)\n",
    "    #\n",
    "    dn.append(dat[np.argmax(yhat[:,2])])\n",
    "    sm.append(dat[np.argmax(yhat[:,1])])\n",
    "    up.append(dat[np.argmax(yhat[:,0])])\n",
    "   "
   ]
  },
  {
   "cell_type": "code",
   "execution_count": 23,
   "metadata": {
    "colab": {},
    "colab_type": "code",
    "id": "0tY7cyhHcjbN"
   },
   "outputs": [],
   "source": [
    "dnavg=np.average(np.array(dn),axis=0)\n",
    "upavg=np.average(np.array(up),axis=0)"
   ]
  },
  {
   "cell_type": "code",
   "execution_count": 24,
   "metadata": {
    "colab": {
     "base_uri": "https://localhost:8080/",
     "height": 350
    },
    "colab_type": "code",
    "id": "FTkaLRa2kIHh",
    "outputId": "f2399e12-1204-4542-fb65-212e0f56f754"
   },
   "outputs": [
    {
     "data": {
      "image/png": "[encoded data removed]",
      "text/plain": [
       "<Figure size 1440x360 with 4 Axes>"
      ]
     },
     "metadata": {},
     "output_type": "display_data"
    }
   ],
   "source": [
    "t=np.array([0])\n",
    "plt.figure(figsize=(20,5))\n",
    "plt.suptitle(\"Up predictions\")\n",
    "plt.subplot(1,4,1)\n",
    "_=plt.plot(upavg[:,t])\n",
    "plt.title('price:ask')\n",
    "plt.subplot(1,4,2)\n",
    "_=plt.plot(upavg[:,t+2])\n",
    "plt.title('price:bid')\n",
    "plt.subplot(1,4,3)\n",
    "_=plt.plot(upavg[:, t+1])\n",
    "plt.title('vol:ask')\n",
    "plt.subplot(1,4,4)\n",
    "_=plt.plot(upavg[:,t+3])\n",
    "_=plt.title('vol:bid')"
   ]
  },
  {
   "cell_type": "code",
   "execution_count": 25,
   "metadata": {
    "colab": {
     "base_uri": "https://localhost:8080/",
     "height": 350
    },
    "colab_type": "code",
    "id": "bggq3NJTz6hJ",
    "outputId": "7e1775b3-5c8a-4d86-c5ba-50db6b90f379"
   },
   "outputs": [
    {
     "data": {
      "image/png": "[encoded data removed]",
      "text/plain": [
       "<Figure size 1440x360 with 4 Axes>"
      ]
     },
     "metadata": {},
     "output_type": "display_data"
    }
   ],
   "source": [
    "plt.figure(figsize=(20,5))\n",
    "plt.suptitle(\"Down prediction\")\n",
    "plt.subplot(1,4,1)\n",
    "_=plt.plot(dnavg[:,t])\n",
    "plt.title('price:ask')\n",
    "plt.subplot(1,4,2)\n",
    "_=plt.plot(dnavg[:,t+2])\n",
    "plt.title('price:bid')\n",
    "plt.subplot(1,4,3)\n",
    "_=plt.plot(dnavg[:, t+1])\n",
    "plt.title('vol;ask')\n",
    "plt.subplot(1,4,4)\n",
    "_=plt.plot(dnavg[:,t+3])\n",
    "_=plt.title('vol:bid')"
   ]
  },
  {
   "cell_type": "markdown",
   "metadata": {
    "colab_type": "text",
    "id": "hxtxADQVz6hQ"
   },
   "source": [
    "### Perform Gradient Ascent on each category (final softmax layer) to generate input with strongest signal."
   ]
  },
  {
   "cell_type": "code",
   "execution_count": 26,
   "metadata": {
    "colab": {
     "base_uri": "https://localhost:8080/",
     "height": 136
    },
    "colab_type": "code",
    "id": "ZdS0pNjHz6hQ",
    "outputId": "a1e7519e-e2f6-4774-a020-a3021a0fe5d6"
   },
   "outputs": [
    {
     "ename": "NameError",
     "evalue": "name 'layer_dict' is not defined",
     "output_type": "error",
     "traceback": [
      "\u001b[0;31m---------------------------------------------------------------------------\u001b[0m",
      "\u001b[0;31mNameError\u001b[0m                                 Traceback (most recent call last)",
      "\u001b[0;32m<ipython-input-26-6439e1b0a7e9>\u001b[0m in \u001b[0;36m<module>\u001b[0;34m()\u001b[0m\n\u001b[1;32m      2\u001b[0m \u001b[0mylabel\u001b[0m\u001b[0;34m=\u001b[0m\u001b[0;34m[\u001b[0m\u001b[0;34m]\u001b[0m\u001b[0;34m\u001b[0m\u001b[0m\n\u001b[1;32m      3\u001b[0m \u001b[0mlayer_name\u001b[0m\u001b[0;34m=\u001b[0m\u001b[0;34m'dense_1'\u001b[0m \u001b[0;31m#final layer - categorical\u001b[0m\u001b[0;34m\u001b[0m\u001b[0m\n\u001b[0;32m----> 4\u001b[0;31m \u001b[0mlayer_output\u001b[0m\u001b[0;34m=\u001b[0m\u001b[0mlayer_dict\u001b[0m\u001b[0;34m[\u001b[0m\u001b[0mlayer_name\u001b[0m\u001b[0;34m]\u001b[0m\u001b[0;34m.\u001b[0m\u001b[0moutput\u001b[0m\u001b[0;34m\u001b[0m\u001b[0m\n\u001b[0m\u001b[1;32m      5\u001b[0m \u001b[0mprint\u001b[0m\u001b[0;34m(\u001b[0m\u001b[0mlayer_output\u001b[0m\u001b[0;34m.\u001b[0m\u001b[0mshape\u001b[0m\u001b[0;34m)\u001b[0m\u001b[0;34m\u001b[0m\u001b[0m\n\u001b[1;32m      6\u001b[0m \u001b[0;32mfor\u001b[0m \u001b[0mi\u001b[0m \u001b[0;32min\u001b[0m \u001b[0mrange\u001b[0m\u001b[0;34m(\u001b[0m\u001b[0;36m3\u001b[0m\u001b[0;34m)\u001b[0m\u001b[0;34m:\u001b[0m\u001b[0;34m\u001b[0m\u001b[0m\n",
      "\u001b[0;31mNameError\u001b[0m: name 'layer_dict' is not defined"
     ]
    }
   ],
   "source": [
    "#visualize\n",
    "ylabel=[]\n",
    "layer_name='dense_1' #final layer - categorical\n",
    "layer_output=layer_dict[layer_name].output\n",
    "print(layer_output.shape)\n",
    "for i in range(3):\n",
    "    print('processing label %d' % i)\n",
    "    loss=layer_output[:,i] #want to increase value of label i\n",
    "    #loss=K.mean(layer_output[:,filter_index:,:])\n",
    "    grads=K.gradients(loss,input_img)[0]\n",
    "    grads=normalize(grads)\n",
    "    iterate=K.function([input_img],[loss,grads])\n",
    "    step=1\n",
    "    input_img_data=np.random.random((1,configs['sequence_length'],len(colx)))\n",
    "    for j in range(1000):\n",
    "        loss_value,grad_values=iterate([input_img_data])\n",
    "        input_img_data +=grad_values*step\n",
    "        #print('Current loss values:', loss_value)\n",
    "    print(loss_value)\n",
    "    ylabel.append((input_img_data[0],loss_value))"
   ]
  },
  {
   "cell_type": "code",
   "execution_count": null,
   "metadata": {
    "colab": {
     "base_uri": "https://localhost:8080/",
     "height": 335
    },
    "colab_type": "code",
    "id": "izIAyVb2z6hY",
    "outputId": "6af7d863-6a08-4735-8862-1d2c6c5a204a"
   },
   "outputs": [],
   "source": [
    "\n",
    "y=ylabel[0][0]\n",
    "\n",
    "t=np.array([0])\n",
    "#\n",
    "y=ylabel[0][0]\n",
    "plt.figure(figsize=(15,5))\n",
    "plt.subplot(1,2,1)\n",
    "plt.title('Generated Image for inside bid/ask for UP Prediction')\n",
    "plt.plot(y[:,t])\n",
    "plt.plot(y[:,t+2])\n",
    "#\n",
    "y=ylabel[2][0]\n",
    "plt.subplot(1,2,2)\n",
    "plt.title(' Generated Image for inside bid/ask for DOWN Prediction')\n",
    "plt.plot(y[:,t])\n",
    "plt.plot(y[:,t+2])\n",
    "y=ylabel[0][0]"
   ]
  },
  {
   "cell_type": "code",
   "execution_count": null,
   "metadata": {
    "colab": {},
    "colab_type": "code",
    "id": "grmT4M1Nz6ha"
   },
   "outputs": [],
   "source": []
  },
  {
   "cell_type": "code",
   "execution_count": null,
   "metadata": {},
   "outputs": [],
   "source": []
  }
 ],
 "metadata": {
  "accelerator": "GPU",
  "colab": {
   "collapsed_sections": [],
   "name": "CONV2D - Master.ipynb",
   "provenance": [],
   "version": "0.3.2"
  },
  "kernelspec": {
   "display_name": "Environment (conda_tensorflow_p36)",
   "language": "python",
   "name": "conda_tensorflow_p36"
  },
  "language_info": {
   "codemirror_mode": {
    "name": "ipython",
    "version": 3
   },
   "file_extension": ".py",
   "mimetype": "text/x-python",
   "name": "python",
   "nbconvert_exporter": "python",
   "pygments_lexer": "ipython3",
   "version": "3.6.5"
  }
 },
 "nbformat": 4,
 "nbformat_minor": 1
}
