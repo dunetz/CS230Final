{
 "cells": [
  {
   "cell_type": "code",
   "execution_count": 2,
   "metadata": {},
   "outputs": [],
   "source": [
    "import numpy as np\n",
    "import pandas as pd\n",
    "from io import StringIO\n",
    "from zipfile import ZipFile\n",
    "\n",
    "class DataLoader():\n",
    "    def __init__(self,path):\n",
    "        self.path=path\n",
    "        self.zipfiles=['Day%i.zip' %i for i in range(1,11)]\n",
    "        self.files=['Test_Dst_NoAuction_ZScore_CF_%i.txt' % i for i in range(1,10)]\n",
    "        self.files.insert(0,'Train_Dst_NoAuction_ZScore_CF_1.txt')\n",
    "        self.index=np.array([ \n",
    "                        [0, 3454,  9772, 14694, 25413, 39512],\n",
    "                        [0, 5079, 11201, 17166, 23878, 38397],\n",
    "                        [0, 3903,  9314, 13341, 18527, 28535],\n",
    "                        [0, 2806,  9798, 15140, 25959, 37023],\n",
    "                        [0, 3030,  9758, 15704, 22082, 34785],\n",
    "                        [0, 2263,  8506, 14113, 21120, 39152],\n",
    "                        [0, 2801,  9861, 16601, 24455, 37346],\n",
    "                        [0, 2647, 11309, 19900, 33129, 55478],\n",
    "                        [0, 1873, 11144, 21180, 34060, 52172],\n",
    "                        [0, 1888,  7016, 12738, 18559, 31937]\n",
    "                            ]) # index into each stock for each day\n",
    "        self.diff=np.diff(self.index)\n",
    "\n",
    "    \n",
    "    # return dataframe for one day (rows are values,columns are times)\n",
    "    #        \n",
    "    def get_one_day(self,day):\n",
    "        # days are indexed from 0 to 9\n",
    "        z=self.path+self.zipfiles[day]\n",
    "        zf=ZipFile(z,'r')\n",
    "        data = StringIO(zf.read(self.files[day]).decode('utf_8'))\n",
    "        df=pd.read_csv(data,sep='\\s{2,}',engine='python',header=None)\n",
    "        s=np.repeat([0,1,2,3,4],self.diff[day])\n",
    "        return df\n",
    "    \n",
    "    # return index of stocks for list of days\n",
    "    #\n",
    "    def get_stock_index(self,days):\n",
    "        s=[np.repeat([0,1,2,3,4],self.diff[day]) for day in days]\n",
    "        return s\n",
    "    \n",
    "    #return  1) dataframe for multiple days - transpose so that columns are values and rows are time\n",
    "    #        \n",
    "    def get_days(self,days):\n",
    "        df=[]\n",
    "        for day in days:\n",
    "            d=self.get_one_day(day)\n",
    "            d=pd.DataFrame(d.values.T)\n",
    "            df.append(d)\n",
    "        df=pd.concat(df)\n",
    "        return df\n",
    "                \n",
    "    \n",
    "       "
   ]
  },
  {
   "cell_type": "code",
   "execution_count": 3,
   "metadata": {},
   "outputs": [
    {
     "name": "stdout",
     "output_type": "stream",
     "text": [
      "0 39512 (149, 39512)\n",
      "1 38397 (149, 38397)\n",
      "2 28535 (149, 28535)\n",
      "3 37023 (149, 37023)\n",
      "4 34785 (149, 34785)\n",
      "5 39152 (149, 39152)\n",
      "6 37346 (149, 37346)\n",
      "7 55478 (149, 55478)\n",
      "8 52172 (149, 52172)\n",
      "9 31937 (149, 31937)\n"
     ]
    }
   ],
   "source": [
    "path='../data/'\n",
    "d=DataLoader(path)\n",
    "s=d.get_stock_index(range(10))\n",
    "for i in range(10):\n",
    "    df=d.get_one_day(i)\n",
    "    print(i,len(s[i]),df.shape)\n",
    "  "
   ]
  },
  {
   "cell_type": "code",
   "execution_count": 4,
   "metadata": {},
   "outputs": [],
   "source": [
    "#d=DataLoader()\n",
    "df=d.get_days(range(10))\n"
   ]
  },
  {
   "cell_type": "code",
   "execution_count": 5,
   "metadata": {},
   "outputs": [
    {
     "data": {
      "text/plain": [
       "(394337, 149)"
      ]
     },
     "execution_count": 5,
     "metadata": {},
     "output_type": "execute_result"
    }
   ],
   "source": [
    "df.shape"
   ]
  },
  {
   "cell_type": "code",
   "execution_count": null,
   "metadata": {},
   "outputs": [],
   "source": []
  }
 ],
 "metadata": {
  "kernelspec": {
   "display_name": "Python 3",
   "language": "python",
   "name": "python3"
  },
  "language_info": {
   "codemirror_mode": {
    "name": "ipython",
    "version": 3
   },
   "file_extension": ".py",
   "mimetype": "text/x-python",
   "name": "python",
   "nbconvert_exporter": "python",
   "pygments_lexer": "ipython3",
   "version": "3.5.4"
  }
 },
 "nbformat": 4,
 "nbformat_minor": 2
}
